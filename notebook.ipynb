{
 "cells": [
  {
   "cell_type": "code",
   "execution_count": 1,
   "id": "04129b0a",
   "metadata": {},
   "outputs": [
    {
     "data": {
      "text/html": [
       "<style>.jp-OutputArea-output {display:flex}</style>"
      ],
      "text/plain": [
       "<IPython.core.display.HTML object>"
      ]
     },
     "metadata": {},
     "output_type": "display_data"
    }
   ],
   "source": [
    "%matplotlib inline\n",
    "from IPython.display import display, HTML\n",
    "display(HTML(\"<style>.jp-OutputArea-output {display:flex}</style>\"))"
   ]
  },
  {
   "cell_type": "code",
   "execution_count": 176,
   "id": "a4cea549",
   "metadata": {},
   "outputs": [],
   "source": [
    "# import\n",
    "import os\n",
    "import numpy as np\n",
    "from astropy import units as u\n",
    "from astropy.coordinates import SkyCoord\n",
    "\n",
    "from astropy.io import ascii\n",
    "\n",
    "from specdb import query_catalog as spqcat\n",
    "#from specdb import interface_db as spgidb\n",
    "from specdb import utils as spdbu\n",
    "from specdb.specdb import SpecDB, IgmSpec\n",
    "from specdb import specdb as sdbsdb\n",
    "\n",
    "from pyigm.surveys.llssurvey import LLSSurvey\n",
    "\n",
    "from linetools.spectra.xspectrum1d import XSpectrum1D\n",
    "\n",
    "import importlib\n",
    "import random\n",
    "import math\n",
    "\n",
    "import matplotlib.pyplot as plt\n",
    "\n",
    "import pickle\n",
    "\n",
    "import scipy.stats\n",
    "from astropy.modeling import models, fitting\n",
    "from scipy.optimize import curve_fit\n",
    "from collections import Counter\n",
    "\n",
    "import glob"
   ]
  },
  {
   "cell_type": "code",
   "execution_count": 3,
   "id": "b98c7b18-e18a-4af9-a041-23cf0d41cd3c",
   "metadata": {},
   "outputs": [],
   "source": [
    "def degtodegms(c):\n",
    "    deg,cc=divmod(c,1)\n",
    "    m,s=divmod(cc*60,1)\n",
    "    return '{:.0f}° {:.0f}\\' {:.1f}\\'\\''.format(deg,m,s)\n",
    "\n",
    "def degtohms(c):\n",
    "    h,cc=divmod(c/360*24,1)\n",
    "    m,s=divmod(cc*60,1)\n",
    "    return '{:.0f}h {:.0f}\\' {:.1f}\\'\\''.format(h,m,s)\n",
    "\n",
    "rpath='/home/bartosz/Projects/BOSS/'"
   ]
  },
  {
   "cell_type": "code",
   "execution_count": 4,
   "id": "bf015e70",
   "metadata": {},
   "outputs": [
    {
     "name": "stdout",
     "output_type": "stream",
     "text": [
      "Database is igmspec\n",
      "Created on 2019-Mar-06\n",
      "Version: v03.1\n"
     ]
    }
   ],
   "source": [
    "#db_file=os.getenv('IGMSPEC_DB')\n",
    "#igmsp = SpecDB(db_file=os.getenv('IGMSPEC_DB')+'/IGMspec_DB_v03.1.hdf5')\n",
    "igmsp = SpecDB('/media/bartosz/Volume/igmspec_data/DB/IGMspec_DB_v03.1.hdf5')\n",
    "\n",
    "#importlib.reload(sdbsdb)\n",
    "#igmsp = sdbsdb.IgmSpec(db_file='/media/bartosz/Volume/igmspec_data/DB/IGMspec_DB_v03.1.hdf5')"
   ]
  },
  {
   "cell_type": "code",
   "execution_count": 5,
   "id": "16c15d9a",
   "metadata": {},
   "outputs": [
    {
     "data": {
      "text/plain": [
       "<QueryCatalog:  Catalog has 547679 sources\n",
       "   Loaded groups are ['BOSS_DR14', 'SQUAD_DR1', 'ESI_z6', 'KODIAQ_DR2', 'SDSS_DR7', 'KODIAQ_DR1', 'HD-LLS_DR1', 'GGG', 'HST_z2', 'XQ-100', 'HDLA100', '2QZ', 'ESI_DLA', 'COS-Halos', 'COS-Dwarfs', 'HSTQSO', 'MUSoDLA', 'UVES_Dall', 'UVpSM4'] \n",
       ">"
      ]
     },
     "execution_count": 5,
     "metadata": {},
     "output_type": "execute_result"
    }
   ],
   "source": [
    "igmsp.qcat"
   ]
  },
  {
   "cell_type": "code",
   "execution_count": 5,
   "id": "c2135677-709c-41c8-90a4-261086f8cf02",
   "metadata": {},
   "outputs": [],
   "source": [
    "meta = igmsp['BOSS_DR14'].meta\n",
    "\n",
    "#index_z = [i for i,entry in enumerate(meta) if 2<= entry[6] <= 3]\n",
    "#print(len(index_z))\n",
    "\n",
    "#qdict = { 'Z':(2,3)}\n",
    "#meta_z = igmsp.query_meta(qdict)\n",
    "#print(len(meta_z))\n",
    "#meta_z[0:3]"
   ]
  },
  {
   "cell_type": "code",
   "execution_count": 84,
   "id": "b918b66b-0d05-4129-8d62-f28c75c38ccf",
   "metadata": {},
   "outputs": [
    {
     "name": "stdout",
     "output_type": "stream",
     "text": [
      "<SkyCoord (ICRS): (ra, dec) in deg\n",
      "    (14.2508173, 14.62716282)>\n",
      "Your search yielded 1 match[es] within radius=1 arcsec\n",
      "-----\n",
      "Staged 1 spectra totalling 7.456e-05 Gb\n",
      "Loaded spectra\n",
      "Staged 1 spectra totalling 0.0032 Gb\n",
      "Loaded spectra\n",
      "Staged 1 spectra totalling 8e-05 Gb\n",
      "Loaded spectra\n",
      "Nspec = 3\n",
      "0\n"
     ]
    },
    {
     "name": "stderr",
     "output_type": "stream",
     "text": [
      "/home/bartosz/linetools/linetools/spectra/xspectrum1d.py:253: UserWarning: No unit given to wavelength, assuming Angstroms.\n",
      "  warnings.warn(\"No unit given to wavelength, assuming Angstroms.\")\n"
     ]
    },
    {
     "data": {
      "text/html": [
       "<div><i>Table length=3</i>\n",
       "<table id=\"table140381017964048\" class=\"table-striped table-bordered table-condensed\">\n",
       "<thead><tr><th>RA_GROUP</th><th>DEC_GROUP</th><th>THING_ID</th><th>PLATE</th><th>MJD</th><th>FIBERID</th><th>Z</th><th>Z_ERR</th><th>Z_VI</th><th>Z_PIPE</th><th>Z_PIPE_ERR</th><th>ZWARNING</th><th>Z_PCA</th><th>Z_PCA_ER</th><th>Z_MGII</th><th>BOSS_TARGET1</th><th>ANCILLARY_TARGET1</th><th>ANCILLARY_TARGET2</th><th>EBOSS_TARGET0</th><th>EBOSS_TARGET1</th><th>EBOSS_TARGET2</th><th>N_SPEC_SDSS</th><th>N_SPEC_BOSS</th><th>N_SPEC</th><th>PLATE_DUPLICATE</th><th>MJD_DUPLICATE</th><th>FIBERID_DUPLICATE</th><th>BI_CIV</th><th>ERR_BI_CIV</th><th>RUN_NUMBER</th><th>COL_NUMBER</th><th>FIELD_NUMBER</th><th>PSFFLUX</th><th>IVAR_PSFFLUX</th><th>PSFMAG</th><th>ERR_PSFMAG</th><th>MI</th><th>GAL_EXT</th><th>RASS_COUNTS</th><th>RASS_COUNTS_SNR</th><th>SDSS2ROSAT_SEP</th><th>FLUX_0.2_2.0keV</th><th>FLUX_0.2_2.0keV_ERR</th><th>FLUX_2.0_12.0keV</th><th>FLUX_2.0_12.0keV_ERR</th><th>FLUX_0.2_12.0keV</th><th>FLUX_0.2_12.0keV_ERR</th><th>LUM_0.2_12.0keV</th><th>SDSS2XMM_SEP</th><th>GALEX_MATCHED</th><th>FUV</th><th>FUV_IVAR</th><th>NUV</th><th>NUV_IVAR</th><th>JMAG</th><th>ERR_JMAG</th><th>JSNR</th><th>JRDFLAG</th><th>HMAG</th><th>ERR_HMAG</th><th>HSNR</th><th>HRDFLAG</th><th>KMAG</th><th>ERR_KMAG</th><th>KSNR</th><th>KRDFLAG</th><th>SDSS2MASS_SEP</th><th>W1MAG</th><th>ERR_W1MAG</th><th>W1SNR</th><th>W1CHI2</th><th>W2MAG</th><th>ERR_W2MAG</th><th>W2SNR</th><th>W2CHI2</th><th>W3MAG</th><th>ERR_W3MAG</th><th>W3SNR</th><th>W3CHI2</th><th>W4MAG</th><th>ERR_W4MAG</th><th>W4SNR</th><th>W4CHI2</th><th>SDSS2WISE_SEP</th><th>UKIDSS_MATCHED</th><th>YFLUX</th><th>YFLUX_ERR</th><th>JFLUX</th><th>JFLUX_ERR</th><th>HFLUX</th><th>HFLUX_ERR</th><th>KFLUX</th><th>KFLUX_ERR</th><th>FIRST_MATCHED</th><th>FIRST_FLUX</th><th>FIRST_SNR</th><th>SDSS2FIRST_SEP</th><th>ORIG_ID</th><th>R</th><th>zem_GROUP</th><th>sig_zem</th><th>IGM_ID</th><th>NPIX</th><th>WV_MIN</th><th>WV_MAX</th><th>GROUP_ID</th><th>EPOCH</th><th>SDSS_NAME</th><th>SPECTRO</th><th>SOURCE_Z</th><th>SPECTRO_DUPLICATE</th><th>RERUN_NUMBER</th><th>OBJ_ID</th><th>CC_FLAGS</th><th>PH_FLAGS</th><th>flag_zem</th><th>CAT</th><th>DATE-OBS</th><th>INSTR</th><th>DISPERSER</th><th>TELESCOPE</th><th>STYPE</th><th>SPEC_FILE</th><th>GROUP</th><th>UMAG</th><th>UMAGERR</th><th>GMAG</th><th>GMAGERR</th><th>RMAG</th><th>RMAGERR</th><th>IMAG</th><th>IMAGERR</th><th>ZMAG</th><th>ZMAGERR</th><th>AU</th><th>logNH</th><th>FIRSTMAG</th><th>FIRSTSN</th><th>FIRSTDEL</th><th>RASSCNT</th><th>RASSSN</th><th>RASSDEL</th><th>JMAGERR</th><th>HMAGERR</th><th>KMAGERR</th><th>MASSDEL</th><th>MASSFLG</th><th>MIMAG</th><th>DGMI</th><th>MFLAG</th><th>SPFLAG</th><th>MODEFLAG</th><th>USELFLAG</th><th>BESTFLAG</th><th>LZFLAG</th><th>HZFLAG</th><th>FTFLAG</th><th>RTFLAG</th><th>SRFLAG</th><th>STFLAG</th><th>GXFLAG</th><th>RUN</th><th>RMJD</th><th>SMJD</th><th>FIBER</th><th>RERUN</th><th>CAMCOL</th><th>FIELD</th><th>OBJECT</th><th>TFLAG</th><th>LZTFLAG</th><th>HZTFLAG</th><th>FTTFLAG</th><th>RTTFLAG</th><th>SRTFLAG</th><th>STTFLAG</th><th>GXTFLAG</th><th>UTMAG</th><th>UTMAGERR</th><th>GTMAG</th><th>GTMAGERR</th><th>RTMAG</th><th>RTMAGERR</th><th>ITMAG</th><th>ITMAGERR</th><th>ZTMAG</th><th>ZTMAGERR</th><th>SDSSJ</th><th>BESTID</th><th>SPECOID</th><th>ONAME</th><th>kodetime</th><th>kodwblue</th><th>kodwred</th><th>kodrelease</th><th>qso</th><th>sRA</th><th>sDEC</th><th>pi_date</th><th>spec_prefix</th><th>redux_setup</th><th>targname</th><th>deckname</th><th>elaptime</th><th>qaflag</th></tr></thead>\n",
       "<thead><tr><th>float64</th><th>float64</th><th>int32</th><th>int32</th><th>int32</th><th>int16</th><th>float64</th><th>float64</th><th>float64</th><th>float64</th><th>float64</th><th>int16</th><th>float64</th><th>float64</th><th>float64</th><th>int64</th><th>int64</th><th>int64</th><th>int64</th><th>int64</th><th>int64</th><th>int16</th><th>int16</th><th>int16</th><th>int32[51]</th><th>int32[51]</th><th>int32[51]</th><th>float64</th><th>float64</th><th>int16</th><th>int16</th><th>int16</th><th>float64[5]</th><th>float64[5]</th><th>float64[5]</th><th>float64[5]</th><th>float64</th><th>float64[5]</th><th>float64</th><th>float64</th><th>float64</th><th>float64</th><th>float64</th><th>float64</th><th>float64</th><th>float64</th><th>float64</th><th>float64</th><th>float64</th><th>float32</th><th>float64</th><th>float64</th><th>float64</th><th>float64</th><th>float64</th><th>float64</th><th>float32</th><th>int16</th><th>float64</th><th>float64</th><th>float32</th><th>int16</th><th>float64</th><th>float64</th><th>float32</th><th>int16</th><th>float64</th><th>float64</th><th>float64</th><th>float64</th><th>float64</th><th>float64</th><th>float64</th><th>float64</th><th>float64</th><th>float64</th><th>float64</th><th>float64</th><th>float64</th><th>float64</th><th>float64</th><th>float64</th><th>float64</th><th>float64</th><th>float32</th><th>float64</th><th>float64</th><th>float64</th><th>float64</th><th>float64</th><th>float64</th><th>float64</th><th>float64</th><th>int16</th><th>float64</th><th>float64</th><th>float64</th><th>int64</th><th>float64</th><th>float64</th><th>float64</th><th>int64</th><th>int64</th><th>float64</th><th>float64</th><th>int64</th><th>float64</th><th>str18</th><th>str4</th><th>str4</th><th>str1[51]</th><th>str1</th><th>str1</th><th>str4</th><th>str4</th><th>str10</th><th>str4</th><th>str10</th><th>str5</th><th>str4</th><th>str10</th><th>str3</th><th>str28</th><th>str10</th><th>float64</th><th>float64</th><th>float64</th><th>float64</th><th>float64</th><th>float64</th><th>float64</th><th>float64</th><th>float64</th><th>float64</th><th>float64</th><th>float64</th><th>float64</th><th>float64</th><th>float64</th><th>float64</th><th>float64</th><th>float64</th><th>float64</th><th>float64</th><th>float64</th><th>float64</th><th>int32</th><th>float64</th><th>float64</th><th>int32</th><th>int32</th><th>int32</th><th>int32</th><th>int32</th><th>int32</th><th>int32</th><th>int32</th><th>int32</th><th>int32</th><th>int32</th><th>int32</th><th>int32</th><th>int32</th><th>int32</th><th>int32</th><th>int32</th><th>int32</th><th>int32</th><th>int32</th><th>int32</th><th>int32</th><th>int32</th><th>int32</th><th>int32</th><th>int32</th><th>int32</th><th>int32</th><th>float64</th><th>float64</th><th>float64</th><th>float64</th><th>float64</th><th>float64</th><th>float64</th><th>float64</th><th>float64</th><th>float64</th><th>str31</th><th>str31</th><th>str31</th><th>str31</th><th>int64</th><th>int64</th><th>int64</th><th>int64</th><th>str14</th><th>str11</th><th>str12</th><th>str27</th><th>str20</th><th>str8</th><th>str14</th><th>str2</th><th>str18</th><th>str4</th></tr></thead>\n",
       "<tr><td>14.25082</td><td>14.62716</td><td>241804816</td><td>5704</td><td>56187</td><td>310</td><td>2.6489999999999996</td><td>0.0</td><td>2.6489999294281006</td><td>2.623656988143921</td><td>0.00016750801296439022</td><td>0</td><td>2.6447656000000004</td><td>-1.0</td><td>-1.0</td><td>4096</td><td>0</td><td>0</td><td>0</td><td>0</td><td>0</td><td>1</td><td>0</td><td>1</td><td>0 .. -1</td><td>0 .. -1</td><td>0 .. -1</td><td>0.0</td><td>0.0</td><td>0</td><td>0</td><td>0</td><td>34.999515533447266 .. 127.46582794189453</td><td>3.1231186389923096 .. 0.15777859091758728</td><td>18.639827728271484 .. 17.236478805541992</td><td>0.017553113400936127 .. 0.021442590281367302</td><td>-29.088345</td><td>0.22029274702072144 .. 0.06563570350408554</td><td>0.0</td><td>0.0</td><td>-1.0</td><td>nan</td><td>nan</td><td>nan</td><td>nan</td><td>nan</td><td>nan</td><td>nan</td><td>nan</td><td>1.0</td><td>0.19351951777935028</td><td>47.8953549783179</td><td>4.703124046325684</td><td>6.289234720912008</td><td>16.276</td><td>0.098</td><td>11.1</td><td>2</td><td>15.708</td><td>0.157</td><td>8.1</td><td>2</td><td>15.071</td><td>0.114</td><td>9.4</td><td>2</td><td>0.136098</td><td>14.324000000000002</td><td>0.028</td><td>38.79999923706055</td><td>1.531</td><td>13.359000000000002</td><td>0.032</td><td>33.400001525878906</td><td>0.991</td><td>9.664</td><td>0.048</td><td>22.5</td><td>0.8903</td><td>7.43</td><td>0.028</td><td>9.699999809265137</td><td>0.9369</td><td>0.307163</td><td>0.0</td><td>0.0</td><td>0.0</td><td>0.0</td><td>0.0</td><td>0.0</td><td>0.0</td><td>0.0</td><td>0.0</td><td>-1</td><td>-1.0</td><td>-1.0</td><td>-1.0</td><td>37644</td><td>2100.0</td><td>2.649</td><td>0.00016750801296439022</td><td>35834</td><td>4629</td><td>3563.7</td><td>10344.3</td><td>35834</td><td>2000.0</td><td>005700.19+143737.7</td><td>BOSS</td><td>VI</td><td>- .. -</td><td>-</td><td>-</td><td>00o0</td><td>AAAB</td><td>VI</td><td>DR14</td><td>2012-09-17</td><td>BOSS</td><td>BOTH</td><td>SDSS 2.5-M</td><td>QSO</td><td>spec-5704-56187-0310.fits</td><td>BOSS_DR14</td><td>--</td><td>--</td><td>--</td><td>--</td><td>--</td><td>--</td><td>--</td><td>--</td><td>--</td><td>--</td><td>--</td><td>--</td><td>--</td><td>--</td><td>--</td><td>--</td><td>--</td><td>--</td><td>--</td><td>--</td><td>--</td><td>--</td><td>--</td><td>--</td><td>--</td><td>--</td><td>--</td><td>--</td><td>--</td><td>--</td><td>--</td><td>--</td><td>--</td><td>--</td><td>--</td><td>--</td><td>--</td><td>--</td><td>--</td><td>--</td><td>--</td><td>--</td><td>--</td><td>--</td><td>--</td><td>--</td><td>--</td><td>--</td><td>--</td><td>--</td><td>--</td><td>--</td><td>--</td><td>--</td><td>--</td><td>--</td><td>--</td><td>--</td><td>--</td><td>--</td><td>--</td><td>--</td><td>--</td><td>--</td><td>--</td><td>--</td><td>--</td><td>--</td><td>--</td><td>--</td><td>--</td><td>--</td><td>--</td><td>--</td><td>--</td><td>--</td><td>--</td><td>--</td><td>--</td><td>--</td><td>--</td></tr>\n",
       "<tr><td>14.25082</td><td>14.62716</td><td>--</td><td>420</td><td>--</td><td>--</td><td>--</td><td>--</td><td>--</td><td>--</td><td>--</td><td>--</td><td>--</td><td>--</td><td>--</td><td>--</td><td>--</td><td>--</td><td>--</td><td>--</td><td>--</td><td>--</td><td>--</td><td>--</td><td>-- .. --</td><td>-- .. --</td><td>-- .. --</td><td>--</td><td>--</td><td>--</td><td>--</td><td>--</td><td>-- .. --</td><td>-- .. --</td><td>-- .. --</td><td>-- .. --</td><td>--</td><td>-- .. --</td><td>--</td><td>--</td><td>--</td><td>--</td><td>--</td><td>--</td><td>--</td><td>--</td><td>--</td><td>--</td><td>--</td><td>--</td><td>--</td><td>--</td><td>--</td><td>--</td><td>16.276</td><td>--</td><td>--</td><td>--</td><td>15.708</td><td>--</td><td>--</td><td>--</td><td>15.071</td><td>--</td><td>--</td><td>--</td><td>--</td><td>--</td><td>--</td><td>--</td><td>--</td><td>--</td><td>--</td><td>--</td><td>--</td><td>--</td><td>--</td><td>--</td><td>--</td><td>--</td><td>--</td><td>--</td><td>--</td><td>--</td><td>--</td><td>--</td><td>--</td><td>--</td><td>--</td><td>--</td><td>--</td><td>--</td><td>--</td><td>--</td><td>--</td><td>--</td><td>--</td><td>--</td><td>2000.0</td><td>2.649</td><td>0.0</td><td>35834</td><td>3843</td><td>3795.8</td><td>9193.9</td><td>2327</td><td>2000.0</td><td>--</td><td>--</td><td>--</td><td>-- .. --</td><td>--</td><td>--</td><td>--</td><td>--</td><td>SDSS-HW</td><td>--</td><td>2000-11-23</td><td>SDSS</td><td>BOTH</td><td>SDSS 2.5-M</td><td>QSO</td><td>spSpec-51871-0420-119.fit.gz</td><td>SDSS_DR7</td><td>18.665</td><td>0.018</td><td>17.874</td><td>0.019</td><td>17.617</td><td>0.016</td><td>17.385</td><td>0.023</td><td>17.244</td><td>0.023</td><td>0.268</td><td>20.671</td><td>-1.0</td><td>0.0</td><td>0.0</td><td>-9.0</td><td>0.0</td><td>0.0</td><td>0.099</td><td>0.157</td><td>0.115</td><td>0.123</td><td>13</td><td>-28.716</td><td>0.341</td><td>0</td><td>1</td><td>1</td><td>0</td><td>0</td><td>0</td><td>0</td><td>0</td><td>0</td><td>0</td><td>0</td><td>0</td><td>1043</td><td>51465</td><td>51871</td><td>119</td><td>40</td><td>3</td><td>93</td><td>109</td><td>4</td><td>1</td><td>0</td><td>0</td><td>0</td><td>0</td><td>0</td><td>0</td><td>18.637</td><td>0.015</td><td>17.873</td><td>0.004</td><td>17.634</td><td>0.004</td><td>17.378</td><td>0.005</td><td>17.255</td><td>0.014</td><td>005700.19+143737.7</td><td>587724232639447149</td><td>118442274966208512</td><td>SDSS J005700.18+143737.7</td><td>--</td><td>--</td><td>--</td><td>--</td><td>--</td><td>--</td><td>--</td><td>--</td><td>--</td><td>--</td><td>--</td><td>--</td><td>--</td><td>--</td></tr>\n",
       "<tr><td>14.25079</td><td>14.62717</td><td>--</td><td>--</td><td>--</td><td>--</td><td>--</td><td>--</td><td>--</td><td>--</td><td>--</td><td>--</td><td>--</td><td>--</td><td>--</td><td>--</td><td>--</td><td>--</td><td>--</td><td>--</td><td>--</td><td>--</td><td>--</td><td>--</td><td>-- .. --</td><td>-- .. --</td><td>-- .. --</td><td>--</td><td>--</td><td>--</td><td>--</td><td>--</td><td>-- .. --</td><td>-- .. --</td><td>-- .. --</td><td>-- .. --</td><td>--</td><td>-- .. --</td><td>--</td><td>--</td><td>--</td><td>--</td><td>--</td><td>--</td><td>--</td><td>--</td><td>--</td><td>--</td><td>--</td><td>--</td><td>--</td><td>--</td><td>--</td><td>--</td><td>--</td><td>--</td><td>--</td><td>--</td><td>--</td><td>--</td><td>--</td><td>--</td><td>--</td><td>--</td><td>--</td><td>--</td><td>--</td><td>--</td><td>--</td><td>--</td><td>--</td><td>--</td><td>--</td><td>--</td><td>--</td><td>--</td><td>--</td><td>--</td><td>--</td><td>--</td><td>--</td><td>--</td><td>--</td><td>--</td><td>--</td><td>--</td><td>--</td><td>--</td><td>--</td><td>--</td><td>--</td><td>--</td><td>--</td><td>--</td><td>--</td><td>--</td><td>--</td><td>--</td><td>48000.0</td><td>2.643</td><td>0.0</td><td>35834</td><td>70382</td><td>3366.5</td><td>6198.2</td><td>11</td><td>2000.0</td><td>--</td><td>--</td><td>--</td><td>-- .. --</td><td>--</td><td>--</td><td>--</td><td>--</td><td>SIMBAD</td><td>--</td><td>2009-12-10</td><td>HIRES</td><td>BLUE</td><td>Keck-I</td><td>QSO</td><td>J005700+143737_f.fits</td><td>KODIAQ_DR1</td><td>--</td><td>--</td><td>--</td><td>--</td><td>--</td><td>--</td><td>--</td><td>--</td><td>--</td><td>--</td><td>--</td><td>--</td><td>--</td><td>--</td><td>--</td><td>--</td><td>--</td><td>--</td><td>--</td><td>--</td><td>--</td><td>--</td><td>--</td><td>--</td><td>--</td><td>--</td><td>--</td><td>--</td><td>--</td><td>--</td><td>--</td><td>--</td><td>--</td><td>--</td><td>--</td><td>--</td><td>--</td><td>--</td><td>--</td><td>--</td><td>--</td><td>--</td><td>--</td><td>--</td><td>--</td><td>--</td><td>--</td><td>--</td><td>--</td><td>--</td><td>--</td><td>--</td><td>--</td><td>--</td><td>--</td><td>--</td><td>--</td><td>--</td><td>--</td><td>--</td><td>--</td><td>--</td><td>--</td><td>--</td><td>--</td><td>--</td><td>--</td><td>1100</td><td>3366</td><td>6198</td><td>1</td><td>J005700+143737</td><td>00:57:00.19</td><td>+14:37:37.8</td><td>Tytler_Dec_10_12_13_14_2009</td><td>J005700+143737</td><td>Setup_2</td><td>0057+1437</td><td>C1</td><td>1100</td><td>ok</td></tr>\n",
       "</table></div>"
      ],
      "text/plain": [
       "<Table length=3>\n",
       " RA_GROUP DEC_GROUP  THING_ID PLATE ...  targname deckname elaptime qaflag\n",
       " float64   float64    int32   int32 ...   str14     str2    str18    str4 \n",
       "--------- --------- --------- ----- ... --------- -------- -------- ------\n",
       " 14.25082  14.62716 241804816  5704 ...        --       --       --     --\n",
       " 14.25082  14.62716        --   420 ...        --       --       --     --\n",
       " 14.25079  14.62717        --    -- ... 0057+1437       C1     1100     ok"
      ]
     },
     "execution_count": 84,
     "metadata": {},
     "output_type": "execute_result"
    }
   ],
   "source": [
    "coords = SkyCoord(meta[35834][0], meta[35834][1],unit='deg')\n",
    "print(coords)\n",
    "meta_sing = igmsp.meta_from_position(coords, 1*u.arcsec)\n",
    "print('-----')\n",
    "spec = igmsp.spectra_from_meta(meta_sing)\n",
    "print('Nspec = {:d}'.format(spec.nspec))\n",
    "\n",
    "print(spec.select)\n",
    "spec.__dict__.keys()\n",
    "meta_sing\n",
    "\n"
   ]
  },
  {
   "cell_type": "code",
   "execution_count": 97,
   "id": "68b0a297-b48f-4280-8ca4-c4e64b05cc35",
   "metadata": {},
   "outputs": [
    {
     "name": "stdout",
     "output_type": "stream",
     "text": [
      "Staged 1 spectra totalling 7.456e-05 Gb\n",
      "Loaded spectra\n",
      "Staged 1 spectra totalling 0.0032 Gb\n",
      "Loaded spectra\n",
      "Staged 1 spectra totalling 8e-05 Gb\n",
      "Loaded spectra\n"
     ]
    },
    {
     "name": "stderr",
     "output_type": "stream",
     "text": [
      "/home/bartosz/linetools/linetools/spectra/xspectrum1d.py:253: UserWarning: No unit given to wavelength, assuming Angstroms.\n",
      "  warnings.warn(\"No unit given to wavelength, assuming Angstroms.\")\n"
     ]
    },
    {
     "data": {
      "text/plain": [
       "True"
      ]
     },
     "execution_count": 97,
     "metadata": {},
     "output_type": "execute_result"
    }
   ],
   "source": [
    "spec, meta = igmsp.spectra_from_ID(35834)\n",
    "meta[0][['GROUP']][0]=='BOSS_DR14'"
   ]
  },
  {
   "cell_type": "code",
   "execution_count": 75,
   "id": "29d3c6b5-876b-4240-b203-0c4e616f55c6",
   "metadata": {},
   "outputs": [
    {
     "data": {
      "text/plain": [
       "masked_array(data=[0, 119, -1, -1, -1, -1, -1, -1, -1, -1, -1, -1, -1, -1,\n",
       "                   -1, -1, -1, -1, -1, -1, -1, -1, -1, -1, -1, -1, -1, -1,\n",
       "                   -1, -1, -1, -1, -1, -1, -1, -1, -1, -1, -1, -1, -1, -1,\n",
       "                   -1, -1, -1, -1, -1, -1, -1, -1, -1],\n",
       "             mask=[False, False, False, False, False, False, False, False,\n",
       "                   False, False, False, False, False, False, False, False,\n",
       "                   False, False, False, False, False, False, False, False,\n",
       "                   False, False, False, False, False, False, False, False,\n",
       "                   False, False, False, False, False, False, False, False,\n",
       "                   False, False, False, False, False, False, False, False,\n",
       "                   False, False, False],\n",
       "       fill_value=999999,\n",
       "            dtype=int32)"
      ]
     },
     "execution_count": 75,
     "metadata": {},
     "output_type": "execute_result"
    }
   ],
   "source": [
    "meta_sing[0][26]"
   ]
  },
  {
   "cell_type": "code",
   "execution_count": 79,
   "id": "d82312c9-35c2-4673-b5fb-e6c8b3e848e7",
   "metadata": {},
   "outputs": [
    {
     "name": "stdout",
     "output_type": "stream",
     "text": [
      "35834\n"
     ]
    }
   ],
   "source": [
    "for i,m in enumerate(meta):\n",
    "    radec = [m[0],m[1]]\n",
    "    if radec == [meta[35834][0], meta[35834][1]]:\n",
    "        print(i)"
   ]
  },
  {
   "cell_type": "code",
   "execution_count": 66,
   "id": "5910be23-6313-4ad6-b5b7-02ab8e64c7b2",
   "metadata": {},
   "outputs": [
    {
     "data": {
      "text/plain": [
       "<matplotlib.legend.Legend at 0x7fad016603d0>"
      ]
     },
     "execution_count": 66,
     "metadata": {},
     "output_type": "execute_result"
    },
    {
     "data": {
      "image/png": "[encoded data removed]",
      "text/plain": [
       "<Figure size 640x480 with 1 Axes>"
      ]
     },
     "metadata": {},
     "output_type": "display_data"
    }
   ],
   "source": [
    "spec.select=0\n",
    "plt.plot(spec.wavelength,spec.flux,label='0')\n",
    "spec.select=1\n",
    "plt.plot(spec.wavelength,spec.flux,label='1')\n",
    "spec.select=2\n",
    "#plt.plot(spec.wavelength,spec.flux)\n",
    "#plt.ylim(-1,3)\n",
    "plt.legend()\n"
   ]
  },
  {
   "cell_type": "code",
   "execution_count": 8,
   "id": "2ac6bcba-f2a3-4b97-ac78-2b6f6dd9b3e8",
   "metadata": {},
   "outputs": [
    {
     "name": "stdout",
     "output_type": "stream",
     "text": [
      "2502 2502\n",
      "<SkyCoord (ICRS): (ra, dec) in deg\n",
      "    (170.6353807, 19.76280377)>\n",
      "Your search yielded 1 match[es] within radius=1 arcsec\n",
      "-----\n",
      "Staged 1 spectra totalling 7.456e-05 Gb\n",
      "Loaded spectra\n",
      "Staged 1 spectra totalling 8e-05 Gb\n",
      "Loaded spectra\n",
      "Nspec = 2\n"
     ]
    },
    {
     "name": "stderr",
     "output_type": "stream",
     "text": [
      "/home/bartosz/linetools/linetools/spectra/xspectrum1d.py:253: UserWarning: No unit given to wavelength, assuming Angstroms.\n",
      "  warnings.warn(\"No unit given to wavelength, assuming Angstroms.\")\n"
     ]
    },
    {
     "data": {
      "text/latex": [
       "$3603.2964 \\; \\mathrm{\\mathring{A}}$"
      ],
      "text/plain": [
       "<Quantity 3603.29638672 Angstrom>"
      ]
     },
     "execution_count": 8,
     "metadata": {},
     "output_type": "execute_result"
    }
   ],
   "source": [
    "snr_file = rpath + 'dr14_median_snr.pckl'\n",
    "median_snr = pickle.load(open(snr_file,'rb'))\n",
    "index_snr = np.array([i for i,snr in enumerate(median_snr) if snr>=20])\n",
    "meta_snr = [median_snr[i] for i in index_snr]\n",
    "\n",
    "crossmatch = set(index_snr).intersection(index_z)\n",
    "index_final = list(crossmatch)\n",
    "index_final.sort()\n",
    "\n",
    "snr_final = [median_snr[idx] for idx in index_final]\n",
    "z_final = [meta[idx][6] for idx in index_final]\n",
    "print(len(snr_final),len(z_final))\n",
    "\n",
    "meta_final = igmsp['BOSS_DR14'].meta_from_ids(np.array(index_final), first=False)\n",
    "\n",
    "meta_final[0:3]\n",
    "\n",
    "coords = SkyCoord(meta_final[1000][0], meta_final[1000][1],unit='deg')\n",
    "print(coords)\n",
    "meta_sing = igmsp.meta_from_position(coords, 1*u.arcsec)\n",
    "print('-----')\n",
    "spec = igmsp.spectra_from_meta(meta_sing)\n",
    "print('Nspec = {:d}'.format(spec.nspec))\n",
    "spec.wavelength[1]\n",
    "#spec.select = 0\n",
    "\n",
    "#fig, ax = plt.subplots()\n",
    "#fig.set_figwidth(15)\n",
    "#ax.plot(spec.wavelength,spec.flux, lw=1,c='black')\n",
    "#ax.plot(z_final,snr_final,'.')\n",
    "#spectra = igmsp.spectra_from_meta(meta_final)"
   ]
  },
  {
   "cell_type": "code",
   "execution_count": 30,
   "id": "acb52c43-d9c7-4bd4-9595-2ebbd56cc514",
   "metadata": {},
   "outputs": [
    {
     "data": {
      "text/plain": [
       "[4, 5, 6]"
      ]
     },
     "execution_count": 30,
     "metadata": {},
     "output_type": "execute_result"
    }
   ],
   "source": [
    "a = [1,2,3,4,5,6,7,8]\n",
    "a[3:6]\n"
   ]
  },
  {
   "cell_type": "code",
   "execution_count": 95,
   "id": "15f33b54-2310-4a93-9e77-706bb08a9cb3",
   "metadata": {},
   "outputs": [],
   "source": [
    "#count = []\n",
    "#for object in meta_final:\n",
    "#    coords = SkyCoord(object[0], object[1],unit='deg')\n",
    "#    meta_sing = igmsp.meta_from_position(coords, 1*u.arcsec)\n",
    "#    spec = igmsp.spectra_from_meta(meta_sing)\n",
    "#    count.append(spec.nspec)\n",
    "counts, bins = np.histogram(count)\n",
    "#print(counts)\n",
    "#bins = [0,1,2,3,4,5,6,7,8,9]\n",
    "#counts = [ 857 ,1483 , 113  , 23  ,     14  ,  4  ,  4  ,  3   , 1]\n",
    "#plt.stairs(counts, bins)\n",
    "plt.hist(count)\n",
    "plt.yscale('log')\n",
    "#print(count)"
   ]
  },
  {
   "cell_type": "code",
   "execution_count": 65,
   "id": "202f04b6-e3ec-479b-a7c5-66c9e0ead8c6",
   "metadata": {},
   "outputs": [
    {
     "data": {
      "text/plain": [
       "[<matplotlib.lines.Line2D at 0x7ff8ee8ef3d0>]"
      ]
     },
     "execution_count": 65,
     "metadata": {},
     "output_type": "execute_result"
    },
    {
     "data": {
      "image/png": "[encoded data removed]",
      "text/plain": [
       "<Figure size 1500x480 with 1 Axes>"
      ]
     },
     "metadata": {},
     "output_type": "display_data"
    }
   ],
   "source": [
    "spec.select = 1\n",
    "\n",
    "fig, ax = plt.subplots()\n",
    "fig.set_figwidth(15)\n",
    "ax.plot(spec.wavelength,spec.flux, lw=1,c='black')"
   ]
  },
  {
   "cell_type": "code",
   "execution_count": 38,
   "id": "b4a8ac6e-a888-45b7-a6cc-877a2eba83da",
   "metadata": {},
   "outputs": [
    {
     "data": {
      "text/html": [
       "<i>Row index=35834</i>\n",
       "<table id=\"table140381108918480\">\n",
       "<thead><tr><th>RA_GROUP</th><th>DEC_GROUP</th><th>THING_ID</th><th>PLATE</th><th>MJD</th><th>FIBERID</th><th>Z</th><th>Z_ERR</th><th>Z_VI</th><th>Z_PIPE</th><th>Z_PIPE_ERR</th><th>ZWARNING</th><th>Z_PCA</th><th>Z_PCA_ER</th><th>Z_MGII</th><th>BOSS_TARGET1</th><th>ANCILLARY_TARGET1</th><th>ANCILLARY_TARGET2</th><th>EBOSS_TARGET0</th><th>EBOSS_TARGET1</th><th>EBOSS_TARGET2</th><th>N_SPEC_SDSS</th><th>N_SPEC_BOSS</th><th>N_SPEC</th><th>PLATE_DUPLICATE</th><th>MJD_DUPLICATE</th><th>FIBERID_DUPLICATE</th><th>BI_CIV</th><th>ERR_BI_CIV</th><th>RUN_NUMBER</th><th>COL_NUMBER</th><th>FIELD_NUMBER</th><th>PSFFLUX</th><th>IVAR_PSFFLUX</th><th>PSFMAG</th><th>ERR_PSFMAG</th><th>MI</th><th>GAL_EXT</th><th>RASS_COUNTS</th><th>RASS_COUNTS_SNR</th><th>SDSS2ROSAT_SEP</th><th>FLUX_0.2_2.0keV</th><th>FLUX_0.2_2.0keV_ERR</th><th>FLUX_2.0_12.0keV</th><th>FLUX_2.0_12.0keV_ERR</th><th>FLUX_0.2_12.0keV</th><th>FLUX_0.2_12.0keV_ERR</th><th>LUM_0.2_12.0keV</th><th>SDSS2XMM_SEP</th><th>GALEX_MATCHED</th><th>FUV</th><th>FUV_IVAR</th><th>NUV</th><th>NUV_IVAR</th><th>JMAG</th><th>ERR_JMAG</th><th>JSNR</th><th>JRDFLAG</th><th>HMAG</th><th>ERR_HMAG</th><th>HSNR</th><th>HRDFLAG</th><th>KMAG</th><th>ERR_KMAG</th><th>KSNR</th><th>KRDFLAG</th><th>SDSS2MASS_SEP</th><th>W1MAG</th><th>ERR_W1MAG</th><th>W1SNR</th><th>W1CHI2</th><th>W2MAG</th><th>ERR_W2MAG</th><th>W2SNR</th><th>W2CHI2</th><th>W3MAG</th><th>ERR_W3MAG</th><th>W3SNR</th><th>W3CHI2</th><th>W4MAG</th><th>ERR_W4MAG</th><th>W4SNR</th><th>W4CHI2</th><th>SDSS2WISE_SEP</th><th>UKIDSS_MATCHED</th><th>YFLUX</th><th>YFLUX_ERR</th><th>JFLUX</th><th>JFLUX_ERR</th><th>HFLUX</th><th>HFLUX_ERR</th><th>KFLUX</th><th>KFLUX_ERR</th><th>FIRST_MATCHED</th><th>FIRST_FLUX</th><th>FIRST_SNR</th><th>SDSS2FIRST_SEP</th><th>ORIG_ID</th><th>R</th><th>zem_GROUP</th><th>sig_zem</th><th>IGM_ID</th><th>NPIX</th><th>WV_MIN</th><th>WV_MAX</th><th>GROUP_ID</th><th>EPOCH</th><th>SDSS_NAME</th><th>SPECTRO</th><th>SOURCE_Z</th><th>SPECTRO_DUPLICATE</th><th>RERUN_NUMBER</th><th>OBJ_ID</th><th>CC_FLAGS</th><th>PH_FLAGS</th><th>flag_zem</th><th>CAT</th><th>DATE-OBS</th><th>INSTR</th><th>DISPERSER</th><th>TELESCOPE</th><th>STYPE</th><th>SPEC_FILE</th></tr></thead>\n",
       "<thead><tr><th>float64</th><th>float64</th><th>int32</th><th>int16</th><th>int32</th><th>int16</th><th>float64</th><th>float64</th><th>float64</th><th>float64</th><th>float64</th><th>int16</th><th>float64</th><th>float64</th><th>float64</th><th>int64</th><th>int64</th><th>int64</th><th>int64</th><th>int64</th><th>int64</th><th>int16</th><th>int16</th><th>int16</th><th>int32[51]</th><th>int32[51]</th><th>int32[51]</th><th>float64</th><th>float64</th><th>int16</th><th>int16</th><th>int16</th><th>float64[5]</th><th>float64[5]</th><th>float64[5]</th><th>float64[5]</th><th>float64</th><th>float64[5]</th><th>float64</th><th>float64</th><th>float64</th><th>float64</th><th>float64</th><th>float64</th><th>float64</th><th>float64</th><th>float64</th><th>float64</th><th>float64</th><th>float32</th><th>float64</th><th>float64</th><th>float64</th><th>float64</th><th>float64</th><th>float64</th><th>float32</th><th>int16</th><th>float64</th><th>float64</th><th>float32</th><th>int16</th><th>float64</th><th>float64</th><th>float32</th><th>int16</th><th>float64</th><th>float64</th><th>float64</th><th>float64</th><th>float64</th><th>float64</th><th>float64</th><th>float64</th><th>float64</th><th>float64</th><th>float64</th><th>float64</th><th>float64</th><th>float64</th><th>float64</th><th>float64</th><th>float64</th><th>float64</th><th>float32</th><th>float64</th><th>float64</th><th>float64</th><th>float64</th><th>float64</th><th>float64</th><th>float64</th><th>float64</th><th>int16</th><th>float64</th><th>float64</th><th>float64</th><th>int64</th><th>float64</th><th>float64</th><th>float64</th><th>int64</th><th>int64</th><th>float64</th><th>float64</th><th>int64</th><th>float64</th><th>str18</th><th>str4</th><th>str4</th><th>str1[51]</th><th>str1</th><th>str1</th><th>str4</th><th>str4</th><th>str4</th><th>str4</th><th>str10</th><th>str4</th><th>str4</th><th>str10</th><th>str3</th><th>str26</th></tr></thead>\n",
       "<tr><td>14.25082</td><td>14.62716</td><td>241804816</td><td>5704</td><td>56187</td><td>310</td><td>2.6489999999999996</td><td>0.0</td><td>2.6489999294281006</td><td>2.623656988143921</td><td>0.00016750801296439022</td><td>0</td><td>2.6447656000000004</td><td>-1.0</td><td>-1.0</td><td>4096</td><td>0</td><td>0</td><td>0</td><td>0</td><td>0</td><td>1</td><td>0</td><td>1</td><td>0 .. -1</td><td>0 .. -1</td><td>0 .. -1</td><td>0.0</td><td>0.0</td><td>0</td><td>0</td><td>0</td><td>34.999515533447266 .. 127.46582794189453</td><td>3.1231186389923096 .. 0.15777859091758728</td><td>18.639827728271484 .. 17.236478805541992</td><td>0.017553113400936127 .. 0.021442590281367302</td><td>-29.088345</td><td>0.22029274702072144 .. 0.06563570350408554</td><td>0.0</td><td>0.0</td><td>-1.0</td><td>nan</td><td>nan</td><td>nan</td><td>nan</td><td>nan</td><td>nan</td><td>nan</td><td>nan</td><td>1.0</td><td>0.19351951777935028</td><td>47.8953549783179</td><td>4.703124046325684</td><td>6.289234720912008</td><td>16.276</td><td>0.098</td><td>11.1</td><td>2</td><td>15.708</td><td>0.157</td><td>8.1</td><td>2</td><td>15.071</td><td>0.114</td><td>9.4</td><td>2</td><td>0.136098</td><td>14.324000000000002</td><td>0.028</td><td>38.79999923706055</td><td>1.531</td><td>13.359000000000002</td><td>0.032</td><td>33.400001525878906</td><td>0.991</td><td>9.664</td><td>0.048</td><td>22.5</td><td>0.8903</td><td>7.43</td><td>0.028</td><td>9.699999809265137</td><td>0.9369</td><td>0.307163</td><td>0.0</td><td>0.0</td><td>0.0</td><td>0.0</td><td>0.0</td><td>0.0</td><td>0.0</td><td>0.0</td><td>0.0</td><td>-1</td><td>-1.0</td><td>-1.0</td><td>-1.0</td><td>37644</td><td>2100.0</td><td>2.649</td><td>0.00016750801296439022</td><td>35834</td><td>4629</td><td>3563.7</td><td>10344.3</td><td>35834</td><td>2000.0</td><td>005700.19+143737.7</td><td>BOSS</td><td>VI</td><td>- .. -</td><td>-</td><td>-</td><td>00o0</td><td>AAAB</td><td>VI</td><td>DR14</td><td>2012-09-17</td><td>BOSS</td><td>BOTH</td><td>SDSS 2.5-M</td><td>QSO</td><td>spec-5704-56187-0310.fits</td></tr>\n",
       "</table>"
      ],
      "text/plain": [
       "<Row index=35834>\n",
       " RA_GROUP DEC_GROUP  THING_ID PLATE  MJD  FIBERID         Z           Z_ERR         Z_VI              Z_PIPE            Z_PIPE_ERR       ZWARNING       Z_PCA        Z_PCA_ER  Z_MGII BOSS_TARGET1 ANCILLARY_TARGET1 ANCILLARY_TARGET2 EBOSS_TARGET0 EBOSS_TARGET1 EBOSS_TARGET2 N_SPEC_SDSS N_SPEC_BOSS N_SPEC PLATE_DUPLICATE MJD_DUPLICATE FIBERID_DUPLICATE  BI_CIV ERR_BI_CIV RUN_NUMBER COL_NUMBER FIELD_NUMBER                 PSFFLUX                                 IVAR_PSFFLUX                                PSFMAG                                   ERR_PSFMAG                      MI                      GAL_EXT                   RASS_COUNTS RASS_COUNTS_SNR SDSS2ROSAT_SEP FLUX_0.2_2.0keV FLUX_0.2_2.0keV_ERR FLUX_2.0_12.0keV FLUX_2.0_12.0keV_ERR FLUX_0.2_12.0keV FLUX_0.2_12.0keV_ERR LUM_0.2_12.0keV SDSS2XMM_SEP GALEX_MATCHED         FUV             FUV_IVAR            NUV             NUV_IVAR       JMAG  ERR_JMAG   JSNR  JRDFLAG   HMAG  ERR_HMAG   HSNR  HRDFLAG   KMAG  ERR_KMAG   KSNR  KRDFLAG SDSS2MASS_SEP       W1MAG        ERR_W1MAG       W1SNR        W1CHI2       W2MAG        ERR_W2MAG       W2SNR         W2CHI2  W3MAG  ERR_W3MAG  W3SNR   W3CHI2  W4MAG  ERR_W4MAG       W4SNR        W4CHI2 SDSS2WISE_SEP UKIDSS_MATCHED  YFLUX  YFLUX_ERR  JFLUX  JFLUX_ERR  HFLUX  HFLUX_ERR  KFLUX  KFLUX_ERR FIRST_MATCHED FIRST_FLUX FIRST_SNR SDSS2FIRST_SEP ORIG_ID    R    zem_GROUP        sig_zem         IGM_ID  NPIX  WV_MIN  WV_MAX GROUP_ID  EPOCH      SDSS_NAME      SPECTRO SOURCE_Z SPECTRO_DUPLICATE RERUN_NUMBER OBJ_ID CC_FLAGS PH_FLAGS flag_zem CAT   DATE-OBS  INSTR DISPERSER TELESCOPE  STYPE         SPEC_FILE        \n",
       " float64   float64    int32   int16 int32  int16       float64       float64      float64            float64             float64          int16        float64       float64  float64    int64           int64             int64           int64         int64         int64        int16       int16    int16     int32[51]      int32[51]       int32[51]     float64  float64     int16      int16       int16                    float64[5]                                float64[5]                               float64[5]                                 float64[5]                   float64                   float64[5]                   float64       float64        float64         float64           float64           float64            float64            float64            float64            float64       float64       float32          float64           float64           float64           float64      float64 float64  float32  int16  float64 float64  float32  int16  float64 float64  float32  int16     float64         float64        float64       float64      float64      float64        float64       float64       float64 float64  float64  float64 float64 float64  float64       float64      float64    float64       float32     float64  float64  float64  float64  float64  float64  float64  float64      int16      float64    float64     float64      int64  float64  float64         float64         int64  int64 float64 float64  int64   float64       str18          str4    str4        str1[51]         str1      str1    str4     str4     str4   str4   str10     str4    str4     str10     str3           str26          \n",
       "--------- --------- --------- ----- ----- ------- ------------------ ------- ------------------ ----------------- ---------------------- -------- ------------------ -------- ------- ------------ ----------------- ----------------- ------------- ------------- ------------- ----------- ----------- ------ --------------- ------------- ----------------- ------- ---------- ---------- ---------- ------------ ---------------------------------------- ----------------------------------------- ---------------------------------------- -------------------------------------------- ---------- ------------------------------------------ ----------- --------------- -------------- --------------- ------------------- ---------------- -------------------- ---------------- -------------------- --------------- ------------ ------------- ------------------- ---------------- ----------------- ----------------- ------- -------- ------- ------- ------- -------- ------- ------- ------- -------- ------- ------- ------------- ------------------ --------- ----------------- ------- ------------------ --------- ------------------ ------- ------- --------- ------- ------- ------- --------- ----------------- ------- ------------- -------------- ------- --------- ------- --------- ------- --------- ------- --------- ------------- ---------- --------- -------------- ------- ------- --------- ---------------------- ------ ----- ------- ------- -------- ------- ------------------ ------- -------- ----------------- ------------ ------ -------- -------- -------- ---- ---------- ----- --------- ---------- ----- -------------------------\n",
       " 14.25082  14.62716 241804816  5704 56187     310 2.6489999999999996     0.0 2.6489999294281006 2.623656988143921 0.00016750801296439022        0 2.6447656000000004     -1.0    -1.0         4096                 0                 0             0             0             0           1           0      1         0 .. -1       0 .. -1           0 .. -1     0.0        0.0          0          0            0 34.999515533447266 .. 127.46582794189453 3.1231186389923096 .. 0.15777859091758728 18.639827728271484 .. 17.236478805541992 0.017553113400936127 .. 0.021442590281367302 -29.088345 0.22029274702072144 .. 0.06563570350408554         0.0             0.0           -1.0             nan                 nan              nan                  nan              nan                  nan             nan          nan           1.0 0.19351951777935028 47.8953549783179 4.703124046325684 6.289234720912008  16.276    0.098    11.1       2  15.708    0.157     8.1       2  15.071    0.114     9.4       2      0.136098 14.324000000000002     0.028 38.79999923706055   1.531 13.359000000000002     0.032 33.400001525878906   0.991   9.664     0.048    22.5  0.8903    7.43     0.028 9.699999809265137  0.9369      0.307163            0.0     0.0       0.0     0.0       0.0     0.0       0.0     0.0       0.0            -1       -1.0      -1.0           -1.0   37644  2100.0     2.649 0.00016750801296439022  35834  4629  3563.7 10344.3    35834  2000.0 005700.19+143737.7    BOSS     VI              - .. -            -      -     00o0     AAAB     VI   DR14 2012-09-17  BOSS      BOTH SDSS 2.5-M   QSO spec-5704-56187-0310.fits"
      ]
     },
     "execution_count": 38,
     "metadata": {},
     "output_type": "execute_result"
    }
   ],
   "source": [
    "meta[35834][20]\n"
   ]
  },
  {
   "cell_type": "code",
   "execution_count": 46,
   "id": "0a70a876-1792-4686-839d-787452b3bb2e",
   "metadata": {},
   "outputs": [
    {
     "data": {
      "text/plain": [
       "array([    0, 51871,    -1,    -1,    -1,    -1,    -1,    -1,    -1,\n",
       "          -1,    -1,    -1,    -1,    -1,    -1,    -1,    -1,    -1,\n",
       "          -1,    -1,    -1,    -1,    -1,    -1,    -1,    -1,    -1,\n",
       "          -1,    -1,    -1,    -1,    -1,    -1,    -1,    -1,    -1,\n",
       "          -1,    -1,    -1,    -1,    -1,    -1,    -1,    -1,    -1,\n",
       "          -1,    -1,    -1,    -1,    -1,    -1], dtype=int32)"
      ]
     },
     "execution_count": 46,
     "metadata": {},
     "output_type": "execute_result"
    }
   ],
   "source": [
    "meta[35834][25]\n"
   ]
  },
  {
   "cell_type": "code",
   "execution_count": 217,
   "id": "aa6319ad-7842-406a-ae3b-8675610c672c",
   "metadata": {},
   "outputs": [
    {
     "data": {
      "text/plain": [
       "Counter({110799.0: 24,\n",
       "         327423.0: 19,\n",
       "         193470.0: 18,\n",
       "         229201.0: 17,\n",
       "         391635.0: 17,\n",
       "         405124.0: 17,\n",
       "         439311.0: 17,\n",
       "         118761.0: 17,\n",
       "         275281.0: 17,\n",
       "         220749.0: 17,\n",
       "         289049.0: 17,\n",
       "         284784.0: 17,\n",
       "         309055.0: 16,\n",
       "         393772.0: 16,\n",
       "         128283.0: 16,\n",
       "         167528.0: 16,\n",
       "         294745.0: 16,\n",
       "         364057.0: 15,\n",
       "         320303.0: 15,\n",
       "         104001.0: 15,\n",
       "         443507.0: 15,\n",
       "         186174.0: 15,\n",
       "         140248.0: 15,\n",
       "         256378.0: 15,\n",
       "         115439.0: 15,\n",
       "         420612.0: 15,\n",
       "         438405.0: 15,\n",
       "         228440.0: 15,\n",
       "         391964.0: 15,\n",
       "         32175.0: 15,\n",
       "         95201.0: 15,\n",
       "         383901.0: 15,\n",
       "         311272.0: 14,\n",
       "         285946.0: 14,\n",
       "         397487.0: 14,\n",
       "         8843.0: 14,\n",
       "         282607.0: 14,\n",
       "         281331.0: 14,\n",
       "         372307.0: 14,\n",
       "         381529.0: 14,\n",
       "         407046.0: 14,\n",
       "         205383.0: 14,\n",
       "         173192.0: 14,\n",
       "         245591.0: 14,\n",
       "         262152.0: 14,\n",
       "         158461.0: 14,\n",
       "         159684.0: 14,\n",
       "         370338.0: 14,\n",
       "         254425.0: 14,\n",
       "         375604.0: 14,\n",
       "         67086.0: 14,\n",
       "         68138.0: 14,\n",
       "         373005.0: 14,\n",
       "         101843.0: 14,\n",
       "         114357.0: 14,\n",
       "         291662.0: 13,\n",
       "         334695.0: 13,\n",
       "         243496.0: 13,\n",
       "         250182.0: 13,\n",
       "         109275.0: 13,\n",
       "         379723.0: 13,\n",
       "         228248.0: 13,\n",
       "         322470.0: 13,\n",
       "         270073.0: 13,\n",
       "         183691.0: 13,\n",
       "         332248.0: 13,\n",
       "         214262.0: 13,\n",
       "         184873.0: 13,\n",
       "         67235.0: 13,\n",
       "         124496.0: 13,\n",
       "         336034.0: 13,\n",
       "         106592.0: 13,\n",
       "         204391.0: 13,\n",
       "         140491.0: 13,\n",
       "         120767.0: 13,\n",
       "         289193.0: 13,\n",
       "         359513.0: 13,\n",
       "         293594.0: 13,\n",
       "         283581.0: 13,\n",
       "         30627.0: 13,\n",
       "         419450.0: 13,\n",
       "         398170.0: 13,\n",
       "         246117.0: 13,\n",
       "         102386.0: 13,\n",
       "         330047.0: 13,\n",
       "         84095.0: 13,\n",
       "         305452.0: 13,\n",
       "         214236.0: 13,\n",
       "         256752.0: 13,\n",
       "         345165.0: 12,\n",
       "         254925.0: 12,\n",
       "         160480.0: 12,\n",
       "         233489.0: 12,\n",
       "         393170.0: 12,\n",
       "         399448.0: 12,\n",
       "         160584.0: 12,\n",
       "         186070.0: 12,\n",
       "         349561.0: 12,\n",
       "         225551.0: 12,\n",
       "         279226.0: 12,\n",
       "         291875.0: 12,\n",
       "         336374.0: 12,\n",
       "         148509.0: 12,\n",
       "         295066.0: 12,\n",
       "         117775.0: 12,\n",
       "         337345.0: 12,\n",
       "         156957.0: 12,\n",
       "         124085.0: 12,\n",
       "         325010.0: 12,\n",
       "         152242.0: 12,\n",
       "         378558.0: 12,\n",
       "         285704.0: 12,\n",
       "         365720.0: 12,\n",
       "         394328.0: 12,\n",
       "         75439.0: 12,\n",
       "         384013.0: 12,\n",
       "         304049.0: 12,\n",
       "         261629.0: 12,\n",
       "         214543.0: 12,\n",
       "         376053.0: 12,\n",
       "         261854.0: 12,\n",
       "         249671.0: 12,\n",
       "         366108.0: 12,\n",
       "         179297.0: 12,\n",
       "         255060.0: 12,\n",
       "         263707.0: 12,\n",
       "         206826.0: 12,\n",
       "         421745.0: 12,\n",
       "         301116.0: 12,\n",
       "         378095.0: 12,\n",
       "         112228.0: 12,\n",
       "         9932.0: 12,\n",
       "         288095.0: 11,\n",
       "         385486.0: 11,\n",
       "         434773.0: 11,\n",
       "         337843.0: 11,\n",
       "         291477.0: 11,\n",
       "         434327.0: 11,\n",
       "         164810.0: 11,\n",
       "         90933.0: 11,\n",
       "         396825.0: 11,\n",
       "         168664.0: 11,\n",
       "         362788.0: 11,\n",
       "         167248.0: 11,\n",
       "         333995.0: 11,\n",
       "         364732.0: 11,\n",
       "         115034.0: 11,\n",
       "         146894.0: 11,\n",
       "         372018.0: 11,\n",
       "         56903.0: 11,\n",
       "         168243.0: 11,\n",
       "         379244.0: 11,\n",
       "         396914.0: 11,\n",
       "         219376.0: 11,\n",
       "         421365.0: 11,\n",
       "         368999.0: 11,\n",
       "         361185.0: 11,\n",
       "         393466.0: 11,\n",
       "         151895.0: 11,\n",
       "         355022.0: 11,\n",
       "         134122.0: 11,\n",
       "         130038.0: 11,\n",
       "         185590.0: 11,\n",
       "         381729.0: 11,\n",
       "         403449.0: 11,\n",
       "         231886.0: 11,\n",
       "         209555.0: 11,\n",
       "         331265.0: 11,\n",
       "         426940.0: 11,\n",
       "         408549.0: 11,\n",
       "         31487.0: 11,\n",
       "         380202.0: 11,\n",
       "         31721.0: 11,\n",
       "         346371.0: 11,\n",
       "         382873.0: 11,\n",
       "         200926.0: 11,\n",
       "         42098.0: 11,\n",
       "         440378.0: 11,\n",
       "         385895.0: 11,\n",
       "         209527.0: 11,\n",
       "         390808.0: 11,\n",
       "         439849.0: 11,\n",
       "         265788.0: 11,\n",
       "         1792.0: 11,\n",
       "         262982.0: 11,\n",
       "         292332.0: 11,\n",
       "         203956.0: 11,\n",
       "         362538.0: 11,\n",
       "         417381.0: 11,\n",
       "         137981.0: 11,\n",
       "         330050.0: 11,\n",
       "         227109.0: 11,\n",
       "         406700.0: 11,\n",
       "         345648.0: 11,\n",
       "         364644.0: 11,\n",
       "         215912.0: 11,\n",
       "         300391.0: 11,\n",
       "         203589.0: 11,\n",
       "         188977.0: 11,\n",
       "         380488.0: 11,\n",
       "         227768.0: 11,\n",
       "         29861.0: 11,\n",
       "         18282.0: 11,\n",
       "         375066.0: 11,\n",
       "         367655.0: 11,\n",
       "         420569.0: 11,\n",
       "         323936.0: 11,\n",
       "         3819.0: 10,\n",
       "         371651.0: 10,\n",
       "         213037.0: 10,\n",
       "         44026.0: 10,\n",
       "         245703.0: 10,\n",
       "         435132.0: 10,\n",
       "         315309.0: 10,\n",
       "         111504.0: 10,\n",
       "         148630.0: 10,\n",
       "         371531.0: 10,\n",
       "         104448.0: 10,\n",
       "         224164.0: 10,\n",
       "         363654.0: 10,\n",
       "         324933.0: 10,\n",
       "         269383.0: 10,\n",
       "         369074.0: 10,\n",
       "         313032.0: 10,\n",
       "         8013.0: 10,\n",
       "         277493.0: 10,\n",
       "         322400.0: 10,\n",
       "         304772.0: 10,\n",
       "         329221.0: 10,\n",
       "         159026.0: 10,\n",
       "         413801.0: 10,\n",
       "         196112.0: 10,\n",
       "         382201.0: 10,\n",
       "         342711.0: 10,\n",
       "         311506.0: 10,\n",
       "         381419.0: 10,\n",
       "         127467.0: 10,\n",
       "         174086.0: 10,\n",
       "         293066.0: 10,\n",
       "         84418.0: 10,\n",
       "         189461.0: 10,\n",
       "         365847.0: 10,\n",
       "         145514.0: 10,\n",
       "         275391.0: 10,\n",
       "         386034.0: 10,\n",
       "         238841.0: 10,\n",
       "         350883.0: 10,\n",
       "         286178.0: 10,\n",
       "         407407.0: 10,\n",
       "         271865.0: 10,\n",
       "         401847.0: 10,\n",
       "         271486.0: 10,\n",
       "         236058.0: 10,\n",
       "         304271.0: 10,\n",
       "         15809.0: 10,\n",
       "         186254.0: 10,\n",
       "         426039.0: 10,\n",
       "         342507.0: 10,\n",
       "         269819.0: 10,\n",
       "         289184.0: 10,\n",
       "         307276.0: 10,\n",
       "         258528.0: 10,\n",
       "         391883.0: 10,\n",
       "         171219.0: 10,\n",
       "         418978.0: 10,\n",
       "         342277.0: 10,\n",
       "         279186.0: 10,\n",
       "         349886.0: 10,\n",
       "         446365.0: 10,\n",
       "         182479.0: 10,\n",
       "         286725.0: 10,\n",
       "         327044.0: 10,\n",
       "         281131.0: 10,\n",
       "         93276.0: 10,\n",
       "         277989.0: 10,\n",
       "         356234.0: 10,\n",
       "         280209.0: 10,\n",
       "         256258.0: 10,\n",
       "         99169.0: 10,\n",
       "         231280.0: 10,\n",
       "         134622.0: 10,\n",
       "         292185.0: 10,\n",
       "         256159.0: 10,\n",
       "         25519.0: 10,\n",
       "         375095.0: 10,\n",
       "         329019.0: 10,\n",
       "         208474.0: 10,\n",
       "         41123.0: 10,\n",
       "         19057.0: 10,\n",
       "         291189.0: 10,\n",
       "         346101.0: 10,\n",
       "         291706.0: 10,\n",
       "         446668.0: 10,\n",
       "         378887.0: 10,\n",
       "         387090.0: 10,\n",
       "         436222.0: 10,\n",
       "         189073.0: 10,\n",
       "         443014.0: 10,\n",
       "         111156.0: 10,\n",
       "         1745.0: 10,\n",
       "         369622.0: 10,\n",
       "         221417.0: 9,\n",
       "         352836.0: 9,\n",
       "         177263.0: 9,\n",
       "         235383.0: 9,\n",
       "         297852.0: 9,\n",
       "         396622.0: 9,\n",
       "         104435.0: 9,\n",
       "         211682.0: 9,\n",
       "         390993.0: 9,\n",
       "         135302.0: 9,\n",
       "         379030.0: 9,\n",
       "         309014.0: 9,\n",
       "         258077.0: 9,\n",
       "         28042.0: 9,\n",
       "         365802.0: 9,\n",
       "         122542.0: 9,\n",
       "         422884.0: 9,\n",
       "         267465.0: 9,\n",
       "         408526.0: 9,\n",
       "         207799.0: 9,\n",
       "         189847.0: 9,\n",
       "         347599.0: 9,\n",
       "         204633.0: 9,\n",
       "         332801.0: 9,\n",
       "         245797.0: 9,\n",
       "         290458.0: 9,\n",
       "         341307.0: 9,\n",
       "         369535.0: 9,\n",
       "         359885.0: 9,\n",
       "         421783.0: 9,\n",
       "         359549.0: 9,\n",
       "         258744.0: 9,\n",
       "         397524.0: 9,\n",
       "         398802.0: 9,\n",
       "         383622.0: 9,\n",
       "         287286.0: 9,\n",
       "         153071.0: 9,\n",
       "         334500.0: 9,\n",
       "         174511.0: 9,\n",
       "         345065.0: 9,\n",
       "         180854.0: 9,\n",
       "         436712.0: 9,\n",
       "         32516.0: 9,\n",
       "         27550.0: 9,\n",
       "         364533.0: 9,\n",
       "         322710.0: 9,\n",
       "         285303.0: 9,\n",
       "         136074.0: 9,\n",
       "         137912.0: 9,\n",
       "         289872.0: 9,\n",
       "         238106.0: 9,\n",
       "         376812.0: 9,\n",
       "         125370.0: 9,\n",
       "         310423.0: 9,\n",
       "         393208.0: 9,\n",
       "         365056.0: 9,\n",
       "         428547.0: 9,\n",
       "         189742.0: 9,\n",
       "         382887.0: 9,\n",
       "         176597.0: 9,\n",
       "         1291.0: 9,\n",
       "         337283.0: 9,\n",
       "         163560.0: 9,\n",
       "         423256.0: 9,\n",
       "         274870.0: 9,\n",
       "         175871.0: 9,\n",
       "         361564.0: 9,\n",
       "         181249.0: 9,\n",
       "         215348.0: 9,\n",
       "         412523.0: 9,\n",
       "         246770.0: 9,\n",
       "         439770.0: 9,\n",
       "         103442.0: 9,\n",
       "         107333.0: 9,\n",
       "         369250.0: 9,\n",
       "         333839.0: 9,\n",
       "         176659.0: 9,\n",
       "         241558.0: 9,\n",
       "         184118.0: 9,\n",
       "         304855.0: 9,\n",
       "         61251.0: 9,\n",
       "         55649.0: 9,\n",
       "         384383.0: 9,\n",
       "         322502.0: 9,\n",
       "         396758.0: 9,\n",
       "         242145.0: 9,\n",
       "         426823.0: 9,\n",
       "         186902.0: 9,\n",
       "         407230.0: 9,\n",
       "         160903.0: 9,\n",
       "         381282.0: 9,\n",
       "         236200.0: 9,\n",
       "         222433.0: 9,\n",
       "         299328.0: 9,\n",
       "         160385.0: 9,\n",
       "         260681.0: 9,\n",
       "         270422.0: 9,\n",
       "         334694.0: 9,\n",
       "         292052.0: 9,\n",
       "         294251.0: 9,\n",
       "         356879.0: 9,\n",
       "         190296.0: 9,\n",
       "         89692.0: 8,\n",
       "         342655.0: 8,\n",
       "         276707.0: 8,\n",
       "         270604.0: 8,\n",
       "         253020.0: 8,\n",
       "         19602.0: 8,\n",
       "         393182.0: 8,\n",
       "         340437.0: 8,\n",
       "         283736.0: 8,\n",
       "         12883.0: 8,\n",
       "         351463.0: 8,\n",
       "         98372.0: 8,\n",
       "         321482.0: 8,\n",
       "         52738.0: 8,\n",
       "         158173.0: 8,\n",
       "         34084.0: 8,\n",
       "         343728.0: 8,\n",
       "         163878.0: 8,\n",
       "         225076.0: 8,\n",
       "         221209.0: 8,\n",
       "         223460.0: 8,\n",
       "         255841.0: 8,\n",
       "         271085.0: 8,\n",
       "         370797.0: 8,\n",
       "         162418.0: 8,\n",
       "         397789.0: 8,\n",
       "         8087.0: 8,\n",
       "         339464.0: 8,\n",
       "         337893.0: 8,\n",
       "         64111.0: 8,\n",
       "         18200.0: 8,\n",
       "         105253.0: 8,\n",
       "         338331.0: 8,\n",
       "         135058.0: 8,\n",
       "         312037.0: 8,\n",
       "         124296.0: 8,\n",
       "         172580.0: 8,\n",
       "         441539.0: 8,\n",
       "         72289.0: 8,\n",
       "         60439.0: 8,\n",
       "         105500.0: 8,\n",
       "         201490.0: 8,\n",
       "         167563.0: 8,\n",
       "         153586.0: 8,\n",
       "         424284.0: 8,\n",
       "         62844.0: 8,\n",
       "         393493.0: 8,\n",
       "         77723.0: 8,\n",
       "         300182.0: 8,\n",
       "         371923.0: 8,\n",
       "         340525.0: 8,\n",
       "         206009.0: 8,\n",
       "         85777.0: 8,\n",
       "         67350.0: 8,\n",
       "         399042.0: 8,\n",
       "         265055.0: 8,\n",
       "         348822.0: 8,\n",
       "         231777.0: 8,\n",
       "         353664.0: 8,\n",
       "         311035.0: 8,\n",
       "         237537.0: 8,\n",
       "         386983.0: 8,\n",
       "         30785.0: 8,\n",
       "         176847.0: 8,\n",
       "         131026.0: 8,\n",
       "         333548.0: 8,\n",
       "         264293.0: 8,\n",
       "         395555.0: 8,\n",
       "         232442.0: 8,\n",
       "         66141.0: 8,\n",
       "         141028.0: 8,\n",
       "         221529.0: 8,\n",
       "         112133.0: 8,\n",
       "         42929.0: 8,\n",
       "         134194.0: 8,\n",
       "         136209.0: 8,\n",
       "         146504.0: 8,\n",
       "         338525.0: 8,\n",
       "         360656.0: 8,\n",
       "         193700.0: 8,\n",
       "         362841.0: 8,\n",
       "         177520.0: 8,\n",
       "         144802.0: 8,\n",
       "         267668.0: 8,\n",
       "         143335.0: 8,\n",
       "         287542.0: 8,\n",
       "         274485.0: 8,\n",
       "         100725.0: 8,\n",
       "         209888.0: 8,\n",
       "         99694.0: 8,\n",
       "         260757.0: 8,\n",
       "         383488.0: 8,\n",
       "         347655.0: 8,\n",
       "         382143.0: 8,\n",
       "         261697.0: 8,\n",
       "         358616.0: 8,\n",
       "         103697.0: 8,\n",
       "         245675.0: 8,\n",
       "         379577.0: 8,\n",
       "         334506.0: 8,\n",
       "         387176.0: 8,\n",
       "         272064.0: 8,\n",
       "         5267.0: 8,\n",
       "         270807.0: 8,\n",
       "         268779.0: 8,\n",
       "         250328.0: 8,\n",
       "         376089.0: 8,\n",
       "         312088.0: 8,\n",
       "         360079.0: 8,\n",
       "         282498.0: 8,\n",
       "         380270.0: 8,\n",
       "         421436.0: 8,\n",
       "         378073.0: 8,\n",
       "         216915.0: 8,\n",
       "         14703.0: 8,\n",
       "         325712.0: 8,\n",
       "         169927.0: 8,\n",
       "         272940.0: 8,\n",
       "         415443.0: 8,\n",
       "         287277.0: 8,\n",
       "         271013.0: 8,\n",
       "         284687.0: 8,\n",
       "         150283.0: 8,\n",
       "         227025.0: 8,\n",
       "         371734.0: 8,\n",
       "         370573.0: 8,\n",
       "         413708.0: 8,\n",
       "         330634.0: 8,\n",
       "         9573.0: 8,\n",
       "         345604.0: 8,\n",
       "         76707.0: 8,\n",
       "         175672.0: 8,\n",
       "         240196.0: 8,\n",
       "         421486.0: 8,\n",
       "         419166.0: 8,\n",
       "         243445.0: 8,\n",
       "         157283.0: 8,\n",
       "         270685.0: 8,\n",
       "         272295.0: 8,\n",
       "         316092.0: 8,\n",
       "         292930.0: 8,\n",
       "         98746.0: 8,\n",
       "         278885.0: 8,\n",
       "         226207.0: 8,\n",
       "         255137.0: 8,\n",
       "         245349.0: 8,\n",
       "         67991.0: 8,\n",
       "         161879.0: 8,\n",
       "         133250.0: 8,\n",
       "         120268.0: 8,\n",
       "         216535.0: 8,\n",
       "         78048.0: 8,\n",
       "         339927.0: 8,\n",
       "         248394.0: 8,\n",
       "         142874.0: 8,\n",
       "         184467.0: 8,\n",
       "         316216.0: 8,\n",
       "         230804.0: 8,\n",
       "         75298.0: 8,\n",
       "         129430.0: 8,\n",
       "         49956.0: 8,\n",
       "         90188.0: 8,\n",
       "         300452.0: 8,\n",
       "         376194.0: 8,\n",
       "         79906.0: 7,\n",
       "         343797.0: 7,\n",
       "         433583.0: 7,\n",
       "         101096.0: 7,\n",
       "         107112.0: 7,\n",
       "         273426.0: 7,\n",
       "         204572.0: 7,\n",
       "         149075.0: 7,\n",
       "         12891.0: 7,\n",
       "         188357.0: 7,\n",
       "         7245.0: 7,\n",
       "         175418.0: 7,\n",
       "         309597.0: 7,\n",
       "         439594.0: 7,\n",
       "         335994.0: 7,\n",
       "         400253.0: 7,\n",
       "         402000.0: 7,\n",
       "         352360.0: 7,\n",
       "         381162.0: 7,\n",
       "         210196.0: 7,\n",
       "         392586.0: 7,\n",
       "         410864.0: 7,\n",
       "         407775.0: 7,\n",
       "         169675.0: 7,\n",
       "         302299.0: 7,\n",
       "         375441.0: 7,\n",
       "         190721.0: 7,\n",
       "         166275.0: 7,\n",
       "         232425.0: 7,\n",
       "         101729.0: 7,\n",
       "         213559.0: 7,\n",
       "         115899.0: 7,\n",
       "         265672.0: 7,\n",
       "         41032.0: 7,\n",
       "         96860.0: 7,\n",
       "         328027.0: 7,\n",
       "         312376.0: 7,\n",
       "         187227.0: 7,\n",
       "         156677.0: 7,\n",
       "         268735.0: 7,\n",
       "         57492.0: 7,\n",
       "         239819.0: 7,\n",
       "         339298.0: 7,\n",
       "         9777.0: 7,\n",
       "         392384.0: 7,\n",
       "         89379.0: 7,\n",
       "         414813.0: 7,\n",
       "         340409.0: 7,\n",
       "         269274.0: 7,\n",
       "         370340.0: 7,\n",
       "         347475.0: 7,\n",
       "         74512.0: 7,\n",
       "         345255.0: 7,\n",
       "         88936.0: 7,\n",
       "         283295.0: 7,\n",
       "         400366.0: 7,\n",
       "         368095.0: 7,\n",
       "         72244.0: 7,\n",
       "         27150.0: 7,\n",
       "         280103.0: 7,\n",
       "         116576.0: 7,\n",
       "         26691.0: 7,\n",
       "         379356.0: 7,\n",
       "         381885.0: 7,\n",
       "         165728.0: 7,\n",
       "         440370.0: 7,\n",
       "         315389.0: 7,\n",
       "         416818.0: 7,\n",
       "         145573.0: 7,\n",
       "         394330.0: 7,\n",
       "         236919.0: 7,\n",
       "         40896.0: 7,\n",
       "         259492.0: 7,\n",
       "         66737.0: 7,\n",
       "         107695.0: 7,\n",
       "         426854.0: 7,\n",
       "         7312.0: 7,\n",
       "         324296.0: 7,\n",
       "         133489.0: 7,\n",
       "         374876.0: 7,\n",
       "         376729.0: 7,\n",
       "         71588.0: 7,\n",
       "         317557.0: 7,\n",
       "         105243.0: 7,\n",
       "         277808.0: 7,\n",
       "         262889.0: 7,\n",
       "         99262.0: 7,\n",
       "         443489.0: 7,\n",
       "         428024.0: 7,\n",
       "         384812.0: 7,\n",
       "         342540.0: 7,\n",
       "         323272.0: 7,\n",
       "         146433.0: 7,\n",
       "         256902.0: 7,\n",
       "         330630.0: 7,\n",
       "         194101.0: 7,\n",
       "         184641.0: 7,\n",
       "         355710.0: 7,\n",
       "         269362.0: 7,\n",
       "         356626.0: 7,\n",
       "         438912.0: 7,\n",
       "         354545.0: 7,\n",
       "         362581.0: 7,\n",
       "         315740.0: 7,\n",
       "         411645.0: 7,\n",
       "         366470.0: 7,\n",
       "         302653.0: 7,\n",
       "         330589.0: 7,\n",
       "         408505.0: 7,\n",
       "         324690.0: 7,\n",
       "         149419.0: 7,\n",
       "         327599.0: 7,\n",
       "         27604.0: 7,\n",
       "         375716.0: 7,\n",
       "         218728.0: 7,\n",
       "         436796.0: 7,\n",
       "         114176.0: 7,\n",
       "         297336.0: 7,\n",
       "         318037.0: 7,\n",
       "         384194.0: 7,\n",
       "         384464.0: 7,\n",
       "         367950.0: 7,\n",
       "         237715.0: 7,\n",
       "         388352.0: 7,\n",
       "         329277.0: 7,\n",
       "         382799.0: 7,\n",
       "         265097.0: 7,\n",
       "         258213.0: 7,\n",
       "         283688.0: 7,\n",
       "         172562.0: 7,\n",
       "         312697.0: 7,\n",
       "         317851.0: 7,\n",
       "         347434.0: 7,\n",
       "         163365.0: 7,\n",
       "         160451.0: 7,\n",
       "         296857.0: 7,\n",
       "         282696.0: 7,\n",
       "         45887.0: 7,\n",
       "         438601.0: 7,\n",
       "         383643.0: 7,\n",
       "         225366.0: 7,\n",
       "         374730.0: 7,\n",
       "         290396.0: 7,\n",
       "         137353.0: 7,\n",
       "         189016.0: 7,\n",
       "         236494.0: 7,\n",
       "         87519.0: 7,\n",
       "         328128.0: 7,\n",
       "         138670.0: 7,\n",
       "         279339.0: 7,\n",
       "         270313.0: 7,\n",
       "         423471.0: 7,\n",
       "         4496.0: 7,\n",
       "         78671.0: 7,\n",
       "         363089.0: 7,\n",
       "         300606.0: 7,\n",
       "         168613.0: 7,\n",
       "         76188.0: 7,\n",
       "         117162.0: 7,\n",
       "         382776.0: 7,\n",
       "         306975.0: 7,\n",
       "         372400.0: 7,\n",
       "         429336.0: 7,\n",
       "         416229.0: 7,\n",
       "         418053.0: 7,\n",
       "         14385.0: 7,\n",
       "         439516.0: 7,\n",
       "         203221.0: 7,\n",
       "         329888.0: 7,\n",
       "         282947.0: 7,\n",
       "         127856.0: 7,\n",
       "         345628.0: 7,\n",
       "         344255.0: 7,\n",
       "         328636.0: 7,\n",
       "         241353.0: 7,\n",
       "         349300.0: 7,\n",
       "         347222.0: 7,\n",
       "         326722.0: 7,\n",
       "         371725.0: 7,\n",
       "         360058.0: 7,\n",
       "         267380.0: 6,\n",
       "         397218.0: 6,\n",
       "         73411.0: 6,\n",
       "         400923.0: 6,\n",
       "         111548.0: 6,\n",
       "         196315.0: 6,\n",
       "         111498.0: 6,\n",
       "         331284.0: 6,\n",
       "         138097.0: 6,\n",
       "         257190.0: 6,\n",
       "         247741.0: 6,\n",
       "         330111.0: 6,\n",
       "         355702.0: 6,\n",
       "         336254.0: 6,\n",
       "         155880.0: 6,\n",
       "         422247.0: 6,\n",
       "         413919.0: 6,\n",
       "         163392.0: 6,\n",
       "         21480.0: 6,\n",
       "         100762.0: 6,\n",
       "         386334.0: 6,\n",
       "         202523.0: 6,\n",
       "         111078.0: 6,\n",
       "         370871.0: 6,\n",
       "         283268.0: 6,\n",
       "         307895.0: 6,\n",
       "         198882.0: 6,\n",
       "         328472.0: 6,\n",
       "         145593.0: 6,\n",
       "         354854.0: 6,\n",
       "         388826.0: 6,\n",
       "         328277.0: 6,\n",
       "         98603.0: 6,\n",
       "         445332.0: 6,\n",
       "         325063.0: 6,\n",
       "         409926.0: 6,\n",
       "         379639.0: 6,\n",
       "         371354.0: 6,\n",
       "         271916.0: 6,\n",
       "         110353.0: 6,\n",
       "         173333.0: 6,\n",
       "         269997.0: 6,\n",
       "         118643.0: 6,\n",
       "         235023.0: 6,\n",
       "         372708.0: 6,\n",
       "         311741.0: 6,\n",
       "         362364.0: 6,\n",
       "         417114.0: 6,\n",
       "         347168.0: 6,\n",
       "         51051.0: 6,\n",
       "         410236.0: 6,\n",
       "         183769.0: 6,\n",
       "         310480.0: 6,\n",
       "         41448.0: 6,\n",
       "         420738.0: 6,\n",
       "         348781.0: 6,\n",
       "         117006.0: 6,\n",
       "         317097.0: 6,\n",
       "         310302.0: 6,\n",
       "         125037.0: 6,\n",
       "         240938.0: 6,\n",
       "         403692.0: 6,\n",
       "         76551.0: 6,\n",
       "         317191.0: 6,\n",
       "         99991.0: 6,\n",
       "         64443.0: 6,\n",
       "         35131.0: 6,\n",
       "         423691.0: 6,\n",
       "         373392.0: 6,\n",
       "         105929.0: 6,\n",
       "         82704.0: 6,\n",
       "         346681.0: 6,\n",
       "         202384.0: 6,\n",
       "         204971.0: 6,\n",
       "         260150.0: 6,\n",
       "         96384.0: 6,\n",
       "         305318.0: 6,\n",
       "         30859.0: 6,\n",
       "         309133.0: 6,\n",
       "         113906.0: 6,\n",
       "         328929.0: 6,\n",
       "         382084.0: 6,\n",
       "         280479.0: 6,\n",
       "         228270.0: 6,\n",
       "         32020.0: 6,\n",
       "         32435.0: 6,\n",
       "         55157.0: 6,\n",
       "         294061.0: 6,\n",
       "         170168.0: 6,\n",
       "         229317.0: 6,\n",
       "         372270.0: 6,\n",
       "         125597.0: 6,\n",
       "         152897.0: 6,\n",
       "         244148.0: 6,\n",
       "         349618.0: 6,\n",
       "         171652.0: 6,\n",
       "         38017.0: 6,\n",
       "         187661.0: 6,\n",
       "         345295.0: 6,\n",
       "         302005.0: 6,\n",
       "         408907.0: 6,\n",
       "         364705.0: 6,\n",
       "         385401.0: 6,\n",
       "         260194.0: 6,\n",
       "         66572.0: 6,\n",
       "         353285.0: 6,\n",
       "         47315.0: 6,\n",
       "         115002.0: 6,\n",
       "         368980.0: 6,\n",
       "         396748.0: 6,\n",
       "         181641.0: 6,\n",
       "         271648.0: 6,\n",
       "         395620.0: 6,\n",
       "         142194.0: 6,\n",
       "         298877.0: 6,\n",
       "         258572.0: 6,\n",
       "         109553.0: 6,\n",
       "         346029.0: 6,\n",
       "         255975.0: 6,\n",
       "         232545.0: 6,\n",
       "         390229.0: 6,\n",
       "         208198.0: 6,\n",
       "         341290.0: 6,\n",
       "         90708.0: 6,\n",
       "         183651.0: 6,\n",
       "         53665.0: 6,\n",
       "         61770.0: 6,\n",
       "         100303.0: 6,\n",
       "         408491.0: 6,\n",
       "         162671.0: 6,\n",
       "         54319.0: 6,\n",
       "         72215.0: 6,\n",
       "         404761.0: 6,\n",
       "         437487.0: 6,\n",
       "         299314.0: 6,\n",
       "         235580.0: 6,\n",
       "         334934.0: 6,\n",
       "         345921.0: 6,\n",
       "         298930.0: 6,\n",
       "         393601.0: 6,\n",
       "         43114.0: 6,\n",
       "         130454.0: 6,\n",
       "         282011.0: 6,\n",
       "         358496.0: 6,\n",
       "         399200.0: 6,\n",
       "         273292.0: 6,\n",
       "         54513.0: 6,\n",
       "         419732.0: 6,\n",
       "         99754.0: 6,\n",
       "         393374.0: 6,\n",
       "         299665.0: 6,\n",
       "         336967.0: 6,\n",
       "         96753.0: 6,\n",
       "         307389.0: 6,\n",
       "         321061.0: 6,\n",
       "         350206.0: 6,\n",
       "         358792.0: 6,\n",
       "         273881.0: 6,\n",
       "         22424.0: 6,\n",
       "         423127.0: 6,\n",
       "         158780.0: 6,\n",
       "         332440.0: 6,\n",
       "         161748.0: 6,\n",
       "         370310.0: 6,\n",
       "         366244.0: 6,\n",
       "         388035.0: 6,\n",
       "         322775.0: 6,\n",
       "         268542.0: 6,\n",
       "         345694.0: 6,\n",
       "         117709.0: 6,\n",
       "         385598.0: 6,\n",
       "         112333.0: 6,\n",
       "         201076.0: 6,\n",
       "         79551.0: 6,\n",
       "         394452.0: 6,\n",
       "         339153.0: 6,\n",
       "         109932.0: 6,\n",
       "         346591.0: 6,\n",
       "         365049.0: 6,\n",
       "         198222.0: 6,\n",
       "         384557.0: 6,\n",
       "         229858.0: 6,\n",
       "         328194.0: 6,\n",
       "         11613.0: 6,\n",
       "         79903.0: 6,\n",
       "         37403.0: 6,\n",
       "         339596.0: 6,\n",
       "         276329.0: 6,\n",
       "         357813.0: 6,\n",
       "         375885.0: 6,\n",
       "         98557.0: 6,\n",
       "         109790.0: 6,\n",
       "         157160.0: 6,\n",
       "         142320.0: 6,\n",
       "         302815.0: 6,\n",
       "         332909.0: 6,\n",
       "         408276.0: 6,\n",
       "         157652.0: 6,\n",
       "         296434.0: 6,\n",
       "         324779.0: 6,\n",
       "         195052.0: 6,\n",
       "         428549.0: 6,\n",
       "         191243.0: 6,\n",
       "         225351.0: 6,\n",
       "         281723.0: 6,\n",
       "         311681.0: 6,\n",
       "         429648.0: 6,\n",
       "         203626.0: 6,\n",
       "         284898.0: 6,\n",
       "         7477.0: 6,\n",
       "         418160.0: 6,\n",
       "         155658.0: 6,\n",
       "         336610.0: 6,\n",
       "         380537.0: 6,\n",
       "         111695.0: 6,\n",
       "         213929.0: 6,\n",
       "         351378.0: 6,\n",
       "         374601.0: 6,\n",
       "         270270.0: 6,\n",
       "         334573.0: 6,\n",
       "         182793.0: 6,\n",
       "         284679.0: 6,\n",
       "         326388.0: 6,\n",
       "         135973.0: 6,\n",
       "         371224.0: 6,\n",
       "         367425.0: 6,\n",
       "         422462.0: 6,\n",
       "         104097.0: 6,\n",
       "         133266.0: 6,\n",
       "         423815.0: 5,\n",
       "         389131.0: 5,\n",
       "         380154.0: 5,\n",
       "         354707.0: 5,\n",
       "         228723.0: 5,\n",
       "         105755.0: 5,\n",
       "         5984.0: 5,\n",
       "         368769.0: 5,\n",
       "         168917.0: 5,\n",
       "         392813.0: 5,\n",
       "         191835.0: 5,\n",
       "         93970.0: 5,\n",
       "         198941.0: 5,\n",
       "         349544.0: 5,\n",
       "         8294.0: 5,\n",
       "         373958.0: 5,\n",
       "         425989.0: 5,\n",
       "         380765.0: 5,\n",
       "         99743.0: 5,\n",
       "         103033.0: 5,\n",
       "         322493.0: 5,\n",
       "         309542.0: 5,\n",
       "         211647.0: 5,\n",
       "         154413.0: 5,\n",
       "         ...})"
      ]
     },
     "execution_count": 217,
     "metadata": {},
     "output_type": "execute_result"
    }
   ],
   "source": [
    "dpath= '/media/bartosz/Volume/BOSS_DR14/data/'\n",
    "\n",
    "nn = np.loadtxt(dpath + 'nearest_neighbors.txt')\n",
    "\n",
    "idx = nn[:,0]\n",
    "\n",
    "nn_idx = nn[:,2:7]\n",
    "#nn0_d,nn1_d,nn2_d,nn3_d,nn4_d,nn5_d = nn[:,8],nn[:,9],nn[:,10],nn[:,11],nn[:,12]\n",
    "nn_d = nn[:,8:13]\n",
    "\n",
    "\n",
    "d_mean = np.array([np.mean(d) for d in nn_d])\n",
    "Counter([j for i in nn_idx for j in i])"
   ]
  },
  {
   "cell_type": "code",
   "execution_count": 170,
   "id": "e89b4029-281e-471b-a107-a41c80b1f1d4",
   "metadata": {},
   "outputs": [
    {
     "data": {
      "image/png": "[encoded data removed]",
      "text/plain": [
       "<Figure size 640x480 with 1 Axes>"
      ]
     },
     "metadata": {},
     "output_type": "display_data"
    }
   ],
   "source": [
    "ihist = d_mean <10\n",
    "counts,bins= np.histogram(d_mean[ihist],bins=100)\n",
    "\n",
    "nn1 = nn_d[:,0]\n",
    "hist1 = nn1 < 10\n",
    "counts1,bins1 = np.histogram(nn1[hist1],bins=60)\n",
    "\n",
    "\n",
    "fig, ax = plt.subplots()\n",
    "#plt.hist(bins[:-1],bins,weights=counts,histtype='step',label='NN mean')\n",
    "#plt.hist(bins1[:-1],bins1,weights=counts1,histtype='step',label='1st NN')\n",
    "\n",
    "info = ''.join(\n",
    "    r'${}/{}$ quasars'.format(np.sum(counts),len(d_mean)))\n",
    "\n",
    "props = dict(boxstyle='square', facecolor='white', alpha=0.15)\n",
    "ax.text(0.4, 0.97, info, transform=ax.transAxes, fontsize=10,\n",
    "        verticalalignment='top', bbox=props)\n",
    "\n",
    "def halfgaussian(x, mean, amplitude, standard_deviation):\n",
    "    y = np.empty_like(x)\n",
    "    mask1 = x<0.76\n",
    "    mask2 = x>=0.76\n",
    "    y[mask1] = 0\n",
    "    y[mask2] = amplitude * np.exp( - (x[mask2] - mean)**2 / (2*standard_deviation ** 2))\n",
    "    return y\n",
    "\n",
    "\n",
    "def fit_function(k, lamb):\n",
    "    '''poisson function, parameter lamb is the fit parameter'''\n",
    "    return scipy.stats.poisson.pmf(k, lamb)\n",
    "\n",
    "#bin_heights, bin_borders = np.histogram(x, bins='auto')\n",
    "bin_widths = np.diff(bins)\n",
    "bin_centers = bins[:-1] + bin_widths / 2\n",
    "t_init = models.Gaussian1D()\n",
    "fit_t = fitting.LevMarLSQFitter()\n",
    "t = fit_t(t_init, bin_centers, counts)\n",
    "\n",
    "# fit with curve_fit\n",
    "parameters, cov_matrix = curve_fit(halfgaussian, bin_centers, counts)\n",
    "\n",
    "# plot poisson-deviation with fitted parameter\n",
    "x_plot = np.arange(1, 10)\n",
    "\n",
    "# plt.plot(\n",
    "#     x_interval_for_fit,\n",
    "#     halfgaussian(x_interval_for_fit, *parameters),\n",
    "#     color='orange',linestyle='-', marker='',\n",
    "#     label='Fit result',\n",
    "# )\n",
    "\n",
    "x_interval_for_fit = np.linspace(bins[0], bins[-1], 10000)\n",
    "plt.bar(bin_centers, counts, width=bin_widths, label='histogram')\n",
    "#plt.plot(x_interval_for_fit, t(x_interval_for_fit), label='fit', c='red')\n",
    "plt.legend()\n",
    "\n",
    "plt.xlabel('NN mean distance')\n",
    "plt.ylabel('Counts')\n",
    "#plt.xlim(0,10)\n",
    "#plt.yscale('log')\n",
    "\n",
    "plt.grid(axis='y', alpha=0.75)\n",
    "plt.savefig('plots/distr_dmean.png',format='png')\n",
    "plt.show()"
   ]
  },
  {
   "cell_type": "code",
   "execution_count": 214,
   "id": "a20f83ad-8ae1-48d5-9f50-1cfe33dcdb75",
   "metadata": {},
   "outputs": [
    {
     "data": {
      "text/plain": [
       "1.4320375751637204"
      ]
     },
     "execution_count": 214,
     "metadata": {},
     "output_type": "execute_result"
    }
   ],
   "source": [
    "fpath= '/media/bartosz/Volume/BOSS_DR14/data/fits/dpx25/'\n",
    "\n",
    "\n",
    "\n",
    "for filename in glob.glob(fpath+'57492_*.txt'):\n",
    "    nn0 = np.loadtxt(filename)[:,1]\n",
    "    x = np.loadtxt(filename)[:,0]\n",
    "\n",
    "mask1 = x>1250 \n",
    "mask2 = x<2250\n",
    "mask = np.logical_and(mask1,mask2)\n",
    "for filename in glob.glob(fpath+'30859_*.txt'):\n",
    "    nn1 = np.loadtxt(filename)[:,1]\n",
    "\n",
    "for filename in glob.glob(fpath+'378558_*.txt'):\n",
    "    nn2 = np.loadtxt(filename)[:,1]\n",
    "\n",
    "for filename in glob.glob(fpath+'288095_*.txt'):\n",
    "    nn3 = np.loadtxt(filename)[:,1]\n",
    "\n",
    "for filename in glob.glob(fpath+'174086_*.txt'):\n",
    "    nn4 = np.loadtxt(filename)[:,1]\n",
    "\n",
    "for filename in glob.glob(fpath+'231777_*.txt'):\n",
    "    nn5 = np.loadtxt(filename)[:,1]\n",
    "\n",
    "np.sqrt(np.sum([f*f for f in nn0[mask]-nn2[mask]]))"
   ]
  },
  {
   "cell_type": "code",
   "execution_count": 105,
   "id": "adb19ee1-904f-41d7-85d4-50ba1fcfd6b9",
   "metadata": {},
   "outputs": [
    {
     "data": {
      "image/png": "[encoded data removed]",
      "text/plain": [
       "<Figure size 640x480 with 1 Axes>"
      ]
     },
     "metadata": {},
     "output_type": "display_data"
    }
   ],
   "source": [
    "Z = [m[6] for m in meta]# if 0<=m[6]<=5]\n",
    "len(Z)\n",
    "Zcounts,Zbins= np.histogram(Z,bins=20)\n",
    "\n",
    "plt.hist(Zbins[:-1],Zbins,weights=Zcounts)\n",
    "plt.show()"
   ]
  },
  {
   "cell_type": "code",
   "execution_count": 26,
   "id": "c9f0364f-7122-45a7-9937-685fefe3a7f9",
   "metadata": {},
   "outputs": [
    {
     "data": {
      "text/plain": [
       "440512"
      ]
     },
     "execution_count": 26,
     "metadata": {},
     "output_type": "execute_result"
    }
   ],
   "source": [
    "sum(1 for i in J if not np.isnan(i))"
   ]
  },
  {
   "cell_type": "code",
   "execution_count": 34,
   "id": "a6baa7f3-40b6-4137-9a43-470d64f83ef1",
   "metadata": {},
   "outputs": [
    {
     "data": {
      "text/plain": [
       "107469"
      ]
     },
     "execution_count": 34,
     "metadata": {},
     "output_type": "execute_result"
    }
   ],
   "source": [
    "Q = [i for i,m in enumerate(meta) if 0.66<=m[6]<=1.55 and all(j<22 for j in m[34])]\n",
    "len(Q)"
   ]
  },
  {
   "cell_type": "code",
   "execution_count": 87,
   "id": "fed8d333-7bc1-41c6-be53-1fa70760297e",
   "metadata": {},
   "outputs": [
    {
     "data": {
      "text/plain": [
       "1739"
      ]
     },
     "execution_count": 87,
     "metadata": {},
     "output_type": "execute_result"
    }
   ],
   "source": [
    "J = [[m[6],m[54]] for m in meta if not np.isnan(m[54])]\n",
    "Jband = [j for j in J if 0.66<=j[0]<=1.55 and j[1]<22]\n",
    "jband = [e[1] for e in Jband]\n",
    "jred = [e[0] for e in Jband]\n",
    "\n",
    "with open('data/z_Jmag.txt', 'w') as Jsave:\n",
    "    lst = [jred,jband]\n",
    "    for x in zip(*lst):\n",
    "        Jsave.write('{} \\t {} \\n'.format(*x))\n",
    "Jsave.close()\n",
    "\n",
    "len(Jband)"
   ]
  },
  {
   "cell_type": "code",
   "execution_count": 88,
   "id": "101ca301-1c72-4c57-833a-021ffa6d794b",
   "metadata": {},
   "outputs": [
    {
     "data": {
      "text/plain": [
       "129191"
      ]
     },
     "execution_count": 88,
     "metadata": {},
     "output_type": "execute_result"
    }
   ],
   "source": [
    "iband = [m[34][3] for i,m in enumerate(meta) if 0.66<=m[6]<=1.55 and m[34][3]<22]\n",
    "ired = [m[6] for i,m in enumerate(meta) if 0.66<=m[6]<=1.55 and m[34][3]<22]\n",
    "\n",
    "with open('data/z_imag.txt', 'w') as isave:\n",
    "    lst = [ired,iband]\n",
    "    for x in zip(*lst):\n",
    "        isave.write('{} \\t {} \\n'.format(*x))\n",
    "isave.close()\n",
    "len(iband)"
   ]
  },
  {
   "cell_type": "code",
   "execution_count": 5,
   "id": "3c40c46d-d20e-4ab7-8e6f-3661855f1ab6",
   "metadata": {},
   "outputs": [
    {
     "data": {
      "text/plain": [
       "237150"
      ]
     },
     "execution_count": 5,
     "metadata": {},
     "output_type": "execute_result"
    }
   ],
   "source": [
    "zband = [m[34][4] for i,m in enumerate(meta) if 0.1<=m[6]<=2.1 and m[34][4]<23]\n",
    "zred = [m[6] for i,m in enumerate(meta) if 0.1<=m[6]<=2.1 and m[34][4]<23]\n",
    "\n",
    "with open('data/z_zmag_2.txt', 'w') as zsave:\n",
    "    lst = [zred,zband]\n",
    "    for x in zip(*lst):\n",
    "        zsave.write('{} \\t {} \\n'.format(*x))\n",
    "zsave.close()\n",
    "len(zband)"
   ]
  },
  {
   "cell_type": "code",
   "execution_count": 33,
   "id": "15d1ce51-4904-4222-a5d0-f92e485c3bb9",
   "metadata": {},
   "outputs": [
    {
     "name": "stdout",
     "output_type": "stream",
     "text": [
      "Your search yielded 1 match[es] within radius=1 arcsec\n",
      "Staged 1 spectra totalling 7.456e-05 Gb\n",
      "Loaded spectra\n"
     ]
    },
    {
     "name": "stderr",
     "output_type": "stream",
     "text": [
      "/home/bartosz/linetools/linetools/spectra/xspectrum1d.py:253: UserWarning: No unit given to wavelength, assuming Angstroms.\n",
      "  warnings.warn(\"No unit given to wavelength, assuming Angstroms.\")\n"
     ]
    },
    {
     "name": "stdout",
     "output_type": "stream",
     "text": [
      "Your search yielded 1 match[es] within radius=1 arcsec\n",
      "Staged 1 spectra totalling 7.456e-05 Gb\n",
      "Loaded spectra\n"
     ]
    },
    {
     "name": "stderr",
     "output_type": "stream",
     "text": [
      "/home/bartosz/linetools/linetools/spectra/xspectrum1d.py:253: UserWarning: No unit given to wavelength, assuming Angstroms.\n",
      "  warnings.warn(\"No unit given to wavelength, assuming Angstroms.\")\n"
     ]
    },
    {
     "name": "stdout",
     "output_type": "stream",
     "text": [
      "Your search yielded 1 match[es] within radius=1 arcsec\n",
      "Staged 1 spectra totalling 7.456e-05 Gb\n",
      "Loaded spectra\n"
     ]
    },
    {
     "name": "stderr",
     "output_type": "stream",
     "text": [
      "/home/bartosz/linetools/linetools/spectra/xspectrum1d.py:253: UserWarning: No unit given to wavelength, assuming Angstroms.\n",
      "  warnings.warn(\"No unit given to wavelength, assuming Angstroms.\")\n"
     ]
    },
    {
     "name": "stdout",
     "output_type": "stream",
     "text": [
      "Your search yielded 1 match[es] within radius=1 arcsec\n",
      "Staged 1 spectra totalling 7.456e-05 Gb\n",
      "Loaded spectra\n"
     ]
    },
    {
     "name": "stderr",
     "output_type": "stream",
     "text": [
      "/home/bartosz/linetools/linetools/spectra/xspectrum1d.py:253: UserWarning: No unit given to wavelength, assuming Angstroms.\n",
      "  warnings.warn(\"No unit given to wavelength, assuming Angstroms.\")\n"
     ]
    },
    {
     "name": "stdout",
     "output_type": "stream",
     "text": [
      "Your search yielded 1 match[es] within radius=1 arcsec\n",
      "Staged 1 spectra totalling 7.456e-05 Gb\n",
      "Loaded spectra\n"
     ]
    },
    {
     "name": "stderr",
     "output_type": "stream",
     "text": [
      "/home/bartosz/linetools/linetools/spectra/xspectrum1d.py:253: UserWarning: No unit given to wavelength, assuming Angstroms.\n",
      "  warnings.warn(\"No unit given to wavelength, assuming Angstroms.\")\n"
     ]
    },
    {
     "name": "stdout",
     "output_type": "stream",
     "text": [
      "Your search yielded 1 match[es] within radius=1 arcsec\n",
      "Staged 1 spectra totalling 7.456e-05 Gb\n",
      "Loaded spectra\n"
     ]
    },
    {
     "name": "stderr",
     "output_type": "stream",
     "text": [
      "/home/bartosz/linetools/linetools/spectra/xspectrum1d.py:253: UserWarning: No unit given to wavelength, assuming Angstroms.\n",
      "  warnings.warn(\"No unit given to wavelength, assuming Angstroms.\")\n"
     ]
    },
    {
     "name": "stdout",
     "output_type": "stream",
     "text": [
      "Your search yielded 1 match[es] within radius=1 arcsec\n",
      "Staged 1 spectra totalling 7.456e-05 Gb\n",
      "Loaded spectra\n"
     ]
    },
    {
     "name": "stderr",
     "output_type": "stream",
     "text": [
      "/home/bartosz/linetools/linetools/spectra/xspectrum1d.py:253: UserWarning: No unit given to wavelength, assuming Angstroms.\n",
      "  warnings.warn(\"No unit given to wavelength, assuming Angstroms.\")\n"
     ]
    },
    {
     "name": "stdout",
     "output_type": "stream",
     "text": [
      "Your search yielded 1 match[es] within radius=1 arcsec\n",
      "Staged 1 spectra totalling 7.456e-05 Gb\n",
      "Loaded spectra\n"
     ]
    },
    {
     "name": "stderr",
     "output_type": "stream",
     "text": [
      "/home/bartosz/linetools/linetools/spectra/xspectrum1d.py:253: UserWarning: No unit given to wavelength, assuming Angstroms.\n",
      "  warnings.warn(\"No unit given to wavelength, assuming Angstroms.\")\n"
     ]
    },
    {
     "name": "stdout",
     "output_type": "stream",
     "text": [
      "Your search yielded 1 match[es] within radius=1 arcsec\n",
      "Staged 1 spectra totalling 7.456e-05 Gb\n",
      "Loaded spectra\n"
     ]
    },
    {
     "name": "stderr",
     "output_type": "stream",
     "text": [
      "/home/bartosz/linetools/linetools/spectra/xspectrum1d.py:253: UserWarning: No unit given to wavelength, assuming Angstroms.\n",
      "  warnings.warn(\"No unit given to wavelength, assuming Angstroms.\")\n"
     ]
    },
    {
     "name": "stdout",
     "output_type": "stream",
     "text": [
      "Your search yielded 1 match[es] within radius=1 arcsec\n",
      "Staged 1 spectra totalling 7.456e-05 Gb\n",
      "Loaded spectra\n"
     ]
    },
    {
     "name": "stderr",
     "output_type": "stream",
     "text": [
      "/home/bartosz/linetools/linetools/spectra/xspectrum1d.py:253: UserWarning: No unit given to wavelength, assuming Angstroms.\n",
      "  warnings.warn(\"No unit given to wavelength, assuming Angstroms.\")\n"
     ]
    },
    {
     "name": "stdout",
     "output_type": "stream",
     "text": [
      "Your search yielded 1 match[es] within radius=1 arcsec\n",
      "Staged 1 spectra totalling 7.456e-05 Gb\n",
      "Loaded spectra\n"
     ]
    },
    {
     "name": "stderr",
     "output_type": "stream",
     "text": [
      "/home/bartosz/linetools/linetools/spectra/xspectrum1d.py:253: UserWarning: No unit given to wavelength, assuming Angstroms.\n",
      "  warnings.warn(\"No unit given to wavelength, assuming Angstroms.\")\n"
     ]
    },
    {
     "name": "stdout",
     "output_type": "stream",
     "text": [
      "Your search yielded 1 match[es] within radius=1 arcsec\n",
      "Staged 1 spectra totalling 7.456e-05 Gb\n",
      "Loaded spectra\n"
     ]
    },
    {
     "name": "stderr",
     "output_type": "stream",
     "text": [
      "/home/bartosz/linetools/linetools/spectra/xspectrum1d.py:253: UserWarning: No unit given to wavelength, assuming Angstroms.\n",
      "  warnings.warn(\"No unit given to wavelength, assuming Angstroms.\")\n"
     ]
    }
   ],
   "source": [
    "sel = [[1.36 ,   18.852691650390625],\n",
    "[1.432 ,  19.116455078125],\n",
    "[0.93537974 , 20.624008178710938],\n",
    "[0.84656364 , 21.034252166748047],\n",
    "[1.058345  ,  17.828460693359375],\n",
    "[1.0724703000000002 , 19.293384552001953],\n",
    "[0.7883223  , 20.33251190185547],\n",
    "[1.485 ,  21.397701263427734],\n",
    "[1.2283605  , 18.967636108398438],\n",
    "[0.753   ,19.83353614807129],\n",
    "[1.4477440000000001 , 20.895225524902344],\n",
    "[0.858 ,  21.715391159057617]]\n",
    "\n",
    "sel_info=[]\n",
    "for i,m in enumerate(meta):\n",
    "    obj = [m[6],m[34][4]]\n",
    "    if obj in sel:\n",
    "        RA, DEC, Z, zAB, idx = m[0],m[1],m[6],m[34][4],i\n",
    "        coords = SkyCoord(RA,DEC,unit='deg')\n",
    "        sel_info.append([RA, DEC, Z, zAB, idx])\n",
    "\n",
    "        meta_sing = igmsp.meta_from_position(coords, 1*u.arcsec)\n",
    "        spec = igmsp.spectra_from_meta(meta_sing)\n",
    "        \n",
    "        fig, ax = plt.subplots(figsize=(20,7))\n",
    "        \n",
    "        ax.plot(spec.wavelength,spec.flux, lw=2,c='black',drawstyle='steps-mid')\n",
    "        plt.plot(spec.wavelength,spec.sig,linewidth=1,drawstyle='steps-mid', color='grey')\n",
    "\n",
    "        info = '\\n'.join((\n",
    "            r'RA = {}'.format(RA),\n",
    "            r'DEC = {}'.format(DEC),\n",
    "            r'z = {}'.format(Z),\n",
    "            r'z AB mag = {}'.format(zAB)))\n",
    "\n",
    "        props = dict(boxstyle='square', facecolor='lightblue', alpha=0.5)\n",
    "        ax.text(0.7, 0.95, info, transform=ax.transAxes, fontsize=14,\n",
    "            verticalalignment='top', bbox=props)\n",
    "        \n",
    "        plt.savefig('plots/spec{}.png'.format(idx),format='png')\n",
    "        plt.close()\n",
    "        "
   ]
  },
  {
   "cell_type": "code",
   "execution_count": 24,
   "id": "18a3b3cb-3300-4998-9249-5978ca543f40",
   "metadata": {},
   "outputs": [],
   "source": [
    "with open('data/selection_info.txt', 'w') as zsave:\n",
    "    lst = sel_info\n",
    "    for x in lst:\n",
    "        zsave.write('{} \\t {} \\t {} \\t {} \\t {} \\n'.format(*x))\n",
    "zsave.close()"
   ]
  },
  {
   "cell_type": "code",
   "execution_count": 20,
   "id": "52f02de4-6034-4e80-94bd-459a28e267a0",
   "metadata": {},
   "outputs": [
    {
     "data": {
      "text/plain": [
       "[[1.36, 0.005316971570891838, -2.033273291001564, 18.852691650390625, 5],\n",
       " [0.93537974, 0.006143972596646563, 21.276711551497108, 20.624008178710938, 8],\n",
       " [0.84656364,\n",
       "  0.008585837127839113,\n",
       "  19.404917448393988,\n",
       "  21.034252166748047,\n",
       "  18],\n",
       " [0.7883223, 0.010430687323889742, 2.3052534587317464, 20.33251190185547, 24],\n",
       " [1.485, 0.013630253212241428, 0.1924486786871756, 21.397701263427734, 30],\n",
       " [1.4477440000000001,\n",
       "  0.01592769507868752,\n",
       "  25.0952833873808,\n",
       "  20.895225524902344,\n",
       "  36],\n",
       " [0.858, 0.01994309883036749, -0.90963485118292, 21.715391159057617, 44],\n",
       " [1.432, 0.038657366027280204, 2.1061119205856427, 19.116455078125, 91],\n",
       " [1.0724703000000002,\n",
       "  0.04206465365706436,\n",
       "  19.7915089514002,\n",
       "  19.293384552001953,\n",
       "  101],\n",
       " [0.753, 0.04480456261075005, -5.722222936052879, 19.83353614807129, 110],\n",
       " [1.058345, 0.10294420484319744, 5.973508404292357, 17.828460693359375, 270],\n",
       " [1.2283605, 0.1050844158781956, 5.7718080767970354, 18.967636108398438, 275]]"
      ]
     },
     "execution_count": 20,
     "metadata": {},
     "output_type": "execute_result"
    }
   ],
   "source": [
    "sel_info"
   ]
  },
  {
   "cell_type": "code",
   "execution_count": 62,
   "id": "b9105838-a6c9-4b24-b427-8b2f5136865b",
   "metadata": {},
   "outputs": [
    {
     "data": {
      "text/plain": [
       "128911"
      ]
     },
     "execution_count": 62,
     "metadata": {},
     "output_type": "execute_result"
    }
   ],
   "source": [
    "nonzeros = [i for i in zband if i!=0]\n",
    "len(nonzeros)\n",
    "inonzeros= [i for i in iband if i!=0]\n",
    "len(inonzeros)"
   ]
  },
  {
   "cell_type": "code",
   "execution_count": 77,
   "id": "5d61af6e-e910-4e54-bc44-bc6222417a29",
   "metadata": {},
   "outputs": [
    {
     "data": {
      "image/png": "[encoded data removed]",
      "text/plain": [
       "<Figure size 640x480 with 1 Axes>"
      ]
     },
     "metadata": {},
     "output_type": "display_data"
    }
   ],
   "source": [
    "fig, ax = plt.subplots()\n",
    "\n",
    "counts, bins = np.histogram(nonzeros,bins=15)\n",
    "icounts,ibins= np.histogram(inonzeros,bins=15)\n",
    "\n",
    "ax.hist(ibins[:-1],ibins,weights=icounts,color='blue',histtype='step',label='$m_{i}<22$')\n",
    "ax.hist(bins[:-1], bins, label='$m_{z}<22$', weights=counts, histtype='step', color='orange')\n",
    "\n",
    "#plt.hist(nonzeros,label='SDSS EBOSS objects with $z_{mag}<22$')\n",
    "plt.xlabel('PSFMAG')\n",
    "plt.ylabel('')\n",
    "plt.legend()\n",
    "plt.title('SDSS eBOSS objects with $0.66 \\leq z \\leq 1.55$')\n",
    "plt.savefig('plots/z_i_band_hist.png',format='png')\n",
    "plt.show()"
   ]
  },
  {
   "cell_type": "code",
   "execution_count": 41,
   "id": "af004bec-4168-4495-9fed-a98e7f9f1ee3",
   "metadata": {},
   "outputs": [
    {
     "data": {
      "text/plain": [
       "array([20.59112358, 19.9791832 , 19.22360611, 18.95267105, 18.85269165])"
      ]
     },
     "execution_count": 41,
     "metadata": {},
     "output_type": "execute_result"
    }
   ],
   "source": [
    "for i,m in enumerate(meta):\n",
    "    if 0.66<=m[6]<=1.55 and np.mean(m[34])<22:\n",
    "        break;\n",
    "meta[i][34]"
   ]
  },
  {
   "cell_type": "code",
   "execution_count": 6,
   "id": "cb1c3730-af01-416a-9589-24c0d5b7a7e8",
   "metadata": {
    "jp-MarkdownHeadingCollapsed": true
   },
   "outputs": [
    {
     "name": "stdout",
     "output_type": "stream",
     "text": [
      "446844\n",
      "Warning: Key Z in query_dict is not present in this specific meta Table: meta data\n",
      "Warning: Key Z in query_dict is not present in this specific meta Table: meta data\n",
      "Warning: Key Z in query_dict is not present in this specific meta Table: meta data\n",
      "Warning: Key Z in query_dict is not present in this specific meta Table: meta data\n",
      "Warning: Key Z in query_dict is not present in this specific meta Table: meta data\n",
      "Warning: Key Z in query_dict is not present in this specific meta Table: meta data\n",
      "Warning: Key Z in query_dict is not present in this specific meta Table: meta data\n",
      "Warning: Key Z in query_dict is not present in this specific meta Table: meta data\n",
      "Warning: Key Z in query_dict is not present in this specific meta Table: meta data\n",
      "Warning: Key Z in query_dict is not present in this specific meta Table: meta data\n",
      "Warning: Key Z in query_dict is not present in this specific meta Table: meta data\n",
      "Warning: Key Z in query_dict is not present in this specific meta Table: meta data\n",
      "Warning: Key Z in query_dict is not present in this specific meta Table: meta data\n",
      "Warning: Key Z in query_dict is not present in this specific meta Table: meta data\n",
      "Warning: Key Z in query_dict is not present in this specific meta Table: meta data\n",
      "Warning: Key Z in query_dict is not present in this specific meta Table: meta data\n",
      "Warning: Key Z in query_dict is not present in this specific meta Table: meta data\n",
      "Warning: Key Z in query_dict is not present in this specific meta Table: meta data\n"
     ]
    },
    {
     "data": {
      "text/html": [
       "<div><i>Table length=3</i>\n",
       "<table id=\"table140708948579984\" class=\"table-striped table-bordered table-condensed\">\n",
       "<thead><tr><th>RA_GROUP</th><th>DEC_GROUP</th><th>THING_ID</th><th>PLATE</th><th>MJD</th><th>FIBERID</th><th>Z</th><th>Z_ERR</th><th>Z_VI</th><th>Z_PIPE</th><th>Z_PIPE_ERR</th><th>ZWARNING</th><th>Z_PCA</th><th>Z_PCA_ER</th><th>Z_MGII</th><th>BOSS_TARGET1</th><th>ANCILLARY_TARGET1</th><th>ANCILLARY_TARGET2</th><th>EBOSS_TARGET0</th><th>EBOSS_TARGET1</th><th>EBOSS_TARGET2</th><th>N_SPEC_SDSS</th><th>N_SPEC_BOSS</th><th>N_SPEC</th><th>PLATE_DUPLICATE</th><th>MJD_DUPLICATE</th><th>FIBERID_DUPLICATE</th><th>BI_CIV</th><th>ERR_BI_CIV</th><th>RUN_NUMBER</th><th>COL_NUMBER</th><th>FIELD_NUMBER</th><th>PSFFLUX</th><th>IVAR_PSFFLUX</th><th>PSFMAG</th><th>ERR_PSFMAG</th><th>MI</th><th>GAL_EXT</th><th>RASS_COUNTS</th><th>RASS_COUNTS_SNR</th><th>SDSS2ROSAT_SEP</th><th>FLUX_0.2_2.0keV</th><th>FLUX_0.2_2.0keV_ERR</th><th>FLUX_2.0_12.0keV</th><th>FLUX_2.0_12.0keV_ERR</th><th>FLUX_0.2_12.0keV</th><th>FLUX_0.2_12.0keV_ERR</th><th>LUM_0.2_12.0keV</th><th>SDSS2XMM_SEP</th><th>GALEX_MATCHED</th><th>FUV</th><th>FUV_IVAR</th><th>NUV</th><th>NUV_IVAR</th><th>JMAG</th><th>ERR_JMAG</th><th>JSNR</th><th>JRDFLAG</th><th>HMAG</th><th>ERR_HMAG</th><th>HSNR</th><th>HRDFLAG</th><th>KMAG</th><th>ERR_KMAG</th><th>KSNR</th><th>KRDFLAG</th><th>SDSS2MASS_SEP</th><th>W1MAG</th><th>ERR_W1MAG</th><th>W1SNR</th><th>W1CHI2</th><th>W2MAG</th><th>ERR_W2MAG</th><th>W2SNR</th><th>W2CHI2</th><th>W3MAG</th><th>ERR_W3MAG</th><th>W3SNR</th><th>W3CHI2</th><th>W4MAG</th><th>ERR_W4MAG</th><th>W4SNR</th><th>W4CHI2</th><th>SDSS2WISE_SEP</th><th>UKIDSS_MATCHED</th><th>YFLUX</th><th>YFLUX_ERR</th><th>JFLUX</th><th>JFLUX_ERR</th><th>HFLUX</th><th>HFLUX_ERR</th><th>KFLUX</th><th>KFLUX_ERR</th><th>FIRST_MATCHED</th><th>FIRST_FLUX</th><th>FIRST_SNR</th><th>SDSS2FIRST_SEP</th><th>ORIG_ID</th><th>R</th><th>zem_GROUP</th><th>sig_zem</th><th>IGM_ID</th><th>NPIX</th><th>WV_MIN</th><th>WV_MAX</th><th>GROUP_ID</th><th>EPOCH</th><th>SDSS_NAME</th><th>SPECTRO</th><th>SOURCE_Z</th><th>SPECTRO_DUPLICATE</th><th>RERUN_NUMBER</th><th>OBJ_ID</th><th>CC_FLAGS</th><th>PH_FLAGS</th><th>flag_zem</th><th>CAT</th><th>DATE-OBS</th><th>INSTR</th><th>DISPERSER</th><th>TELESCOPE</th><th>STYPE</th><th>SPEC_FILE</th><th>GROUP</th></tr></thead>\n",
       "<thead><tr><th>float64</th><th>float64</th><th>int32</th><th>int16</th><th>int32</th><th>int16</th><th>float64</th><th>float64</th><th>float64</th><th>float64</th><th>float64</th><th>int16</th><th>float64</th><th>float64</th><th>float64</th><th>int64</th><th>int64</th><th>int64</th><th>int64</th><th>int64</th><th>int64</th><th>int16</th><th>int16</th><th>int16</th><th>int32[51]</th><th>int32[51]</th><th>int32[51]</th><th>float64</th><th>float64</th><th>int16</th><th>int16</th><th>int16</th><th>float64[5]</th><th>float64[5]</th><th>float64[5]</th><th>float64[5]</th><th>float64</th><th>float64[5]</th><th>float64</th><th>float64</th><th>float64</th><th>float64</th><th>float64</th><th>float64</th><th>float64</th><th>float64</th><th>float64</th><th>float64</th><th>float64</th><th>float32</th><th>float64</th><th>float64</th><th>float64</th><th>float64</th><th>float64</th><th>float64</th><th>float32</th><th>int16</th><th>float64</th><th>float64</th><th>float32</th><th>int16</th><th>float64</th><th>float64</th><th>float32</th><th>int16</th><th>float64</th><th>float64</th><th>float64</th><th>float64</th><th>float64</th><th>float64</th><th>float64</th><th>float64</th><th>float64</th><th>float64</th><th>float64</th><th>float64</th><th>float64</th><th>float64</th><th>float64</th><th>float64</th><th>float64</th><th>float64</th><th>float32</th><th>float64</th><th>float64</th><th>float64</th><th>float64</th><th>float64</th><th>float64</th><th>float64</th><th>float64</th><th>int16</th><th>float64</th><th>float64</th><th>float64</th><th>int64</th><th>float64</th><th>float64</th><th>float64</th><th>int64</th><th>int64</th><th>float64</th><th>float64</th><th>int64</th><th>float64</th><th>str18</th><th>str4</th><th>str4</th><th>str1[51]</th><th>str1</th><th>str1</th><th>str4</th><th>str4</th><th>str4</th><th>str4</th><th>str10</th><th>str4</th><th>str4</th><th>str10</th><th>str3</th><th>str26</th><th>str9</th></tr></thead>\n",
       "<tr><td>0.00190</td><td>17.77374</td><td>268270422</td><td>7596</td><td>56945</td><td>162</td><td>2.309</td><td>0.0</td><td>2.309000015258789</td><td>2.307750701904297</td><td>0.0010300044668838382</td><td>0</td><td>2.3045657000000004</td><td>-1.0</td><td>-1.0</td><td>0</td><td>0</td><td>0</td><td>0</td><td>4096</td><td>0</td><td>0</td><td>1</td><td>1</td><td>0 .. -1</td><td>0 .. -1</td><td>0 .. -1</td><td>0.0</td><td>0.0</td><td>0</td><td>0</td><td>0</td><td>1.0379366874694824 .. 2.631136417388916</td><td>12.372532844543457 .. 0.8706143498420715</td><td>22.440338134765625 .. 21.372461318969727</td><td>0.2871243953704834 .. 0.38545534014701843</td><td>-24.410782</td><td>0.12021728605031967 .. 0.03581845760345459</td><td>0.0</td><td>0.0</td><td>-1.0</td><td>nan</td><td>nan</td><td>nan</td><td>nan</td><td>nan</td><td>nan</td><td>nan</td><td>nan</td><td>1.0</td><td>0.30231887102127075</td><td>8.785573140381722</td><td>0.7275648713111877</td><td>4.537358964921044</td><td>nan</td><td>nan</td><td>nan</td><td>-1</td><td>nan</td><td>nan</td><td>nan</td><td>-1</td><td>nan</td><td>nan</td><td>nan</td><td>-1</td><td>nan</td><td>nan</td><td>nan</td><td>nan</td><td>nan</td><td>nan</td><td>nan</td><td>nan</td><td>nan</td><td>nan</td><td>nan</td><td>nan</td><td>nan</td><td>nan</td><td>nan</td><td>nan</td><td>nan</td><td>nan</td><td>0.0</td><td>0.0</td><td>0.0</td><td>0.0</td><td>0.0</td><td>0.0</td><td>0.0</td><td>0.0</td><td>0.0</td><td>-1</td><td>-1.0</td><td>-1.0</td><td>-1.0</td><td>0</td><td>2100.0</td><td>2.309</td><td>0.0010300044668838382</td><td>0</td><td>3510</td><td>3566.2</td><td>8000.2</td><td>0</td><td>2000.0</td><td>000000.45+174625.4</td><td>BOSS</td><td>VI</td><td>- .. -</td><td>-</td><td>-</td><td></td><td></td><td>VI</td><td>DR14</td><td>2014-10-15</td><td>BOSS</td><td>BOTH</td><td>SDSS 2.5-M</td><td>QSO</td><td>spec-7596-56945-0162.fits</td><td>BOSS_DR14</td></tr>\n",
       "<tr><td>0.00238</td><td>5.94190</td><td>163544156</td><td>8740</td><td>57367</td><td>694</td><td>2.1031202999999996</td><td>0.0</td><td>-1.0</td><td>2.1031203269958496</td><td>0.0009241577354259787</td><td>0</td><td>2.0996384999999997</td><td>2.0983490000000002</td><td>2.0983490000000002</td><td>0</td><td>0</td><td>0</td><td>0</td><td>2048</td><td>0</td><td>0</td><td>0</td><td>0</td><td>-1 .. -1</td><td>-1 .. -1</td><td>-1 .. -1</td><td>0.0</td><td>0.0</td><td>0</td><td>0</td><td>0</td><td>1.1197296380996704 .. 4.730101585388184</td><td>9.196866035461426 .. 0.8192309737205505</td><td>22.360628128051758 .. 20.78717613220215</td><td>0.3101848363876343 .. 0.2420300394296646</td><td>-24.732</td><td>0.2338263988494873 .. 0.06966802477836609</td><td>0.0</td><td>0.0</td><td>-1.0</td><td>nan</td><td>nan</td><td>nan</td><td>nan</td><td>nan</td><td>nan</td><td>nan</td><td>nan</td><td>1.0</td><td>0.0</td><td>0.0</td><td>0.0</td><td>0.0</td><td>nan</td><td>nan</td><td>nan</td><td>-1</td><td>nan</td><td>nan</td><td>nan</td><td>-1</td><td>nan</td><td>nan</td><td>nan</td><td>-1</td><td>nan</td><td>16.969</td><td>0.127</td><td>8.5</td><td>0.9904</td><td>16.887999999999998</td><td>0.409</td><td>2.700000047683716</td><td>1.004</td><td>11.861</td><td>nan</td><td>1.399999976158142</td><td>0.9819</td><td>8.604</td><td>0.127</td><td>0.699999988079071</td><td>0.9478</td><td>0.706171</td><td>1.0</td><td>1.2885136657753169e-31</td><td>2.4790984841010035e-32</td><td>1.229889058862803e-31</td><td>4.504542253745802e-32</td><td>1.496424644649041e-31</td><td>4.7290496259357616e-32</td><td>2.4598190249290145e-31</td><td>5.689571920868372e-32</td><td>0</td><td>-1.0</td><td>-1.0</td><td>-1.0</td><td>1</td><td>2100.0</td><td>2.103</td><td>0.0009241577354259787</td><td>1</td><td>4582</td><td>3619.9</td><td>10394.4</td><td>1</td><td>2000.0</td><td>000000.57+055630.8</td><td>BOSS</td><td>AUTO</td><td>- .. -</td><td>-</td><td>-</td><td>hH00</td><td>BCUU</td><td>AUTO</td><td>DR14</td><td>2015-12-11</td><td>BOSS</td><td>BOTH</td><td>SDSS 2.5-M</td><td>QSO</td><td>spec-8740-57367-0694.fits</td><td>BOSS_DR14</td></tr>\n",
       "<tr><td>0.00276</td><td>14.97468</td><td>244864389</td><td>6177</td><td>56268</td><td>595</td><td>2.497</td><td>0.0</td><td>2.496999979019165</td><td>2.49796199798584</td><td>0.0008690897957421839</td><td>0</td><td>2.5099661</td><td>-1.0</td><td>-1.0</td><td>2199023255552</td><td>0</td><td>0</td><td>0</td><td>0</td><td>0</td><td>0</td><td>1</td><td>1</td><td>0 .. -1</td><td>0 .. -1</td><td>0 .. -1</td><td>0.0</td><td>0.0</td><td>0</td><td>0</td><td>0</td><td>1.660184383392334 .. 5.348500728607178</td><td>15.485949516296387 .. 0.861799418926239</td><td>21.94196891784668 .. 20.659208297729492</td><td>0.16387343406677246 .. 0.21075020730495453</td><td>-25.664871</td><td>0.16341499984264374 .. 0.048689112067222595</td><td>0.0</td><td>0.0</td><td>-1.0</td><td>nan</td><td>nan</td><td>nan</td><td>nan</td><td>nan</td><td>nan</td><td>nan</td><td>nan</td><td>1.0</td><td>0.04631861299276352</td><td>701.1042837308206</td><td>0.05252976343035698</td><td>384.75096219826605</td><td>nan</td><td>nan</td><td>nan</td><td>-1</td><td>nan</td><td>nan</td><td>nan</td><td>-1</td><td>nan</td><td>nan</td><td>nan</td><td>-1</td><td>nan</td><td>17.5</td><td>0.185</td><td>5.900000095367432</td><td>0.9299</td><td>16.206</td><td>0.211</td><td>5.199999809265137</td><td>0.8249</td><td>12.321</td><td>nan</td><td>0.30000001192092896</td><td>1.149</td><td>8.51</td><td>0.185</td><td>0.699999988079071</td><td>1.036</td><td>0.495515</td><td>1.0</td><td>1.8603829687921641e-31</td><td>3.147684406018196e-32</td><td>2.310947837572515e-31</td><td>4.565332356351401e-32</td><td>2.355314285756731e-31</td><td>5.970480393631547e-32</td><td>2.427149215733221e-31</td><td>6.521724355219432e-32</td><td>0</td><td>-1.0</td><td>-1.0</td><td>-1.0</td><td>2</td><td>2100.0</td><td>2.497</td><td>0.0008690897957421839</td><td>2</td><td>4595</td><td>3607.4</td><td>10389.6</td><td>2</td><td>2000.0</td><td>000000.66+145828.8</td><td>BOSS</td><td>VI</td><td>- .. -</td><td>-</td><td>-</td><td>0000</td><td>BBUU</td><td>VI</td><td>DR14</td><td>2012-12-07</td><td>BOSS</td><td>BOTH</td><td>SDSS 2.5-M</td><td>QSO</td><td>spec-6177-56268-0595.fits</td><td>BOSS_DR14</td></tr>\n",
       "</table></div>"
      ],
      "text/plain": [
       "<Table length=3>\n",
       " RA_GROUP DEC_GROUP  THING_ID PLATE  MJD  FIBERID ... INSTR DISPERSER TELESCOPE  STYPE         SPEC_FILE           GROUP  \n",
       " float64   float64    int32   int16 int32  int16  ...  str4    str4     str10     str3           str26              str9  \n",
       "--------- --------- --------- ----- ----- ------- ... ----- --------- ---------- ----- ------------------------- ---------\n",
       "  0.00190  17.77374 268270422  7596 56945     162 ...  BOSS      BOTH SDSS 2.5-M   QSO spec-7596-56945-0162.fits BOSS_DR14\n",
       "  0.00238   5.94190 163544156  8740 57367     694 ...  BOSS      BOTH SDSS 2.5-M   QSO spec-8740-57367-0694.fits BOSS_DR14\n",
       "  0.00276  14.97468 244864389  6177 56268     595 ...  BOSS      BOTH SDSS 2.5-M   QSO spec-6177-56268-0595.fits BOSS_DR14"
      ]
     },
     "execution_count": 6,
     "metadata": {},
     "output_type": "execute_result"
    }
   ],
   "source": [
    "meta = igmsp['BOSS_DR14'].meta\n",
    "qdict = { 'Z':(2,3)}\n",
    "print(len(meta))\n",
    "#print(meta[1][81])\n",
    "#meta[0:10]\n",
    "#spectra = igmsp.spectra_from_meta(meta)\n",
    "qmeta = igmsp.query_meta(qdict)\n",
    "qmeta[0:3]\n",
    "#len(qmeta)\n",
    "\n",
    "#snr_file = rpath + 'dr14_median_snr.pckl'\n",
    "#median_snr = pickle.load(open(snr_file,'rb'))\n",
    "#len(median_snr)\n",
    "#index=[]\n",
    "#for i,snr in enumerate(median_snr):\n",
    "#    if snr >= 20:\n",
    "#        index.append(i)\n",
    "\n",
    "#meta_z = [meta[j] for j in index]\n",
    "\n",
    "\n",
    "#spectra = igmsp.spectra_from_meta(qmeta)"
   ]
  },
  {
   "cell_type": "code",
   "execution_count": 43,
   "id": "1f7ba310-8ced-4254-b1d1-42aca871383c",
   "metadata": {},
   "outputs": [
    {
     "data": {
      "text/plain": [
       "True"
      ]
     },
     "execution_count": 43,
     "metadata": {},
     "output_type": "execute_result"
    }
   ],
   "source": [
    "a = [3,7,1,6,2,3,7,9,4,5,1]\n",
    "b = [a[i] for i in [1,4,6,7]]\n",
    "b\n",
    "index = [a.index(x) for x in b]\n",
    "len(index) != len(set(index))"
   ]
  },
  {
   "cell_type": "code",
   "execution_count": 9,
   "id": "ece43510-1704-4072-9d4a-4f3719fdfd66",
   "metadata": {},
   "outputs": [],
   "source": [
    "qso1, qso2, qso3 = [5852,56034,900], [6460,56334,170], [6425,56298,840]\n",
    "pos1, pos2, pos3 = ['123056.96+175139.5'], [' 101003.95+332625.6'], ['103411.89+234525.3']\n",
    "#pos=np.array(['123056.96+175139.5', '101003.95+332625.6', '103411.89+234525.3'])\n",
    "qdict = dict(SPECTRO='BOSS')"
   ]
  },
  {
   "cell_type": "code",
   "execution_count": 10,
   "id": "de25fc34-c1fc-4834-a5e6-aecb539c0e7d",
   "metadata": {},
   "outputs": [
    {
     "name": "stdout",
     "output_type": "stream",
     "text": [
      "Your search yielded 1 match[es] within radius=0.5 arcsec\n",
      "Warning: Key SPECTRO in query_dict is not present in this specific meta Table: meta data\n",
      "Staged 1 spectra totalling 7.456e-05 Gb\n",
      "Loaded spectra\n"
     ]
    },
    {
     "name": "stderr",
     "output_type": "stream",
     "text": [
      "/home/bartosz/linetools/linetools/spectra/xspectrum1d.py:253: UserWarning: No unit given to wavelength, assuming Angstroms.\n",
      "  warnings.warn(\"No unit given to wavelength, assuming Angstroms.\")\n"
     ]
    }
   ],
   "source": [
    "#test = igmsp.meta_from_position(pos1, 1*u.arcsec)\n",
    "spec, meta = igmsp.spectra_from_coord(pos1, meta_query=qdict)"
   ]
  },
  {
   "cell_type": "code",
   "execution_count": 11,
   "id": "8086ce91-fa81-4384-a295-d2c02ed5639e",
   "metadata": {},
   "outputs": [
    {
     "data": {
      "text/plain": [
       "Text(0.62, 0.95, 'thing_ID: 268645346\\nplate: 5852\\nmjd: 56034\\nfiber: 900')"
      ]
     },
     "execution_count": 11,
     "metadata": {},
     "output_type": "execute_result"
    },
    {
     "data": {
      "image/png": "[encoded data removed]",
      "text/plain": [
       "<Figure size 1500x480 with 1 Axes>"
      ]
     },
     "metadata": {},
     "output_type": "display_data"
    }
   ],
   "source": [
    "obj = meta[0]\n",
    "\n",
    "array_wl,array_flux,array_sig=spec.wavelength,spec.flux,spec.sig\n",
    "plate,mjd,fiber = obj[3],obj[4],obj[5]\n",
    "ra,dec,z=obj[0],obj[1],obj[6]\n",
    "s2n=spec.get_local_s2n(spec.wavelength[2250],npix=4581)[0]\n",
    "thing_id = obj[2]\n",
    "file_save='spec-{}-{}-{}'.format(plate,mjd,fiber)\n",
    "f=open(rpath + 'data/' + file_save + '.txt','w')\n",
    "for j in range(len(array_wl)):\n",
    "    wl,flux,sig=array_wl[j],array_flux[j],array_sig[j]\n",
    "    f.write('{}\\t{}\\t{}\\n'.format(wl,flux,sig))\n",
    "f.close()\n",
    "\n",
    "fig, ax = plt.subplots()\n",
    "\n",
    "ax.plot(array_wl,array_flux, lw=1,c='black')\n",
    "ax.set_title('{}'.format(file_save), fontsize=14)\n",
    "ax.set_xlabel('wavelength $[\\AA]$',fontsize=14)\n",
    "ax.set_ylabel('flux',fontsize=14)\n",
    "fig.set_figwidth(15)\n",
    "info1 = '\\n'.join((\n",
    "    r'$RA= {}$'.format(degtohms(ra)),\n",
    "    r'$DEC={}$'.format(degtodegms(dec)),\n",
    "    r'$z={0:.3f}$'.format(z),\n",
    "    r'(local) $SN={0:.2f}$'.format(s2n)))\n",
    "info2 = '\\n'.join((\n",
    "    r'thing_ID: {}'.format(thing_id),\n",
    "    r'plate: {}'.format(plate),\n",
    "    r'mjd: {}'.format(mjd),\n",
    "    r'fiber: {}'.format(fiber)))\n",
    "\n",
    "props = dict(boxstyle='square', facecolor='lightblue', alpha=0.5)\n",
    "ax.text(0.84, 0.95, info1, transform=ax.transAxes, fontsize=14,\n",
    "        verticalalignment='top', bbox=props)\n",
    "ax.text(0.62, 0.95, info2, transform=ax.transAxes, fontsize=14,\n",
    "        verticalalignment='top', bbox=props)\n",
    "#plt.savefig(rpath + 'plots/{}.png'.format(file_save), format='png')\n",
    "#plt.close()"
   ]
  },
  {
   "cell_type": "code",
   "execution_count": 12,
   "id": "0ac7017d-92d5-42c3-be7c-b37f2cc811d6",
   "metadata": {},
   "outputs": [
    {
     "data": {
      "text/plain": [
       "(22.312847, 6.605403)"
      ]
     },
     "execution_count": 12,
     "metadata": {},
     "output_type": "execute_result"
    }
   ],
   "source": [
    "spec.wavelength[1000]\n",
    "spec.get_local_s2n(spec.wavelength[3000],npix=4581)"
   ]
  },
  {
   "cell_type": "code",
   "execution_count": 13,
   "id": "f2521d93-46f6-4c66-b226-652c50e1844a",
   "metadata": {},
   "outputs": [
    {
     "data": {
      "text/plain": [
       "4599"
      ]
     },
     "execution_count": 13,
     "metadata": {},
     "output_type": "execute_result"
    }
   ],
   "source": [
    "len(spec.wavelength)\n"
   ]
  },
  {
   "cell_type": "code",
   "execution_count": 14,
   "id": "ba71e7c4-ca5e-4716-8f4e-1b1b7081728c",
   "metadata": {},
   "outputs": [],
   "source": [
    "import pickle"
   ]
  },
  {
   "cell_type": "code",
   "execution_count": 21,
   "id": "ccfb92fe-a137-454b-b017-2196e306fbfe",
   "metadata": {},
   "outputs": [
    {
     "data": {
      "text/plain": [
       "7847"
      ]
     },
     "execution_count": 21,
     "metadata": {},
     "output_type": "execute_result"
    }
   ],
   "source": [
    "snr_file = rpath + 'dr14_median_snr.pckl'\n",
    "median_snr = pickle.load(open(snr_file,'rb'))\n",
    "len(median_snr)\n",
    "i=0\n",
    "for o in median_snr:\n",
    "    if o>=20:\n",
    "        i+=1\n",
    "i"
   ]
  },
  {
   "cell_type": "code",
   "execution_count": 27,
   "id": "aacd80a4-1441-4438-921b-3f2a5c68cc20",
   "metadata": {},
   "outputs": [
    {
     "data": {
      "text/plain": [
       "[1, 4, 6]"
      ]
     },
     "execution_count": 27,
     "metadata": {},
     "output_type": "execute_result"
    }
   ],
   "source": [
    "a = [1,2,3,4,5,6,7]\n",
    "b = [0,3,5]\n",
    "c = [a[i] for i in b]\n",
    "c"
   ]
  },
  {
   "cell_type": "code",
   "execution_count": 69,
   "id": "54eb04bf-e63a-4afd-9420-ab4a6e17a029",
   "metadata": {},
   "outputs": [
    {
     "name": "stdout",
     "output_type": "stream",
     "text": [
      "38\n"
     ]
    }
   ],
   "source": [
    "meta[1][56]\n",
    "i=0\n",
    "j=0\n",
    "for o in meta:\n",
    "#    if math.isnan(o[56]):\n",
    "#        i+=1\n",
    "    if o[56] >= 20:\n",
    "        if o[6] >=2 and o[6] <=3:\n",
    "        #print(o[56])\n",
    "            j+=1\n",
    "        \n",
    "    else: i+=1\n",
    "print(j)"
   ]
  },
  {
   "cell_type": "code",
   "execution_count": 41,
   "id": "8f560ff5",
   "metadata": {},
   "outputs": [
    {
     "name": "stdout",
     "output_type": "stream",
     "text": [
      "9\n"
     ]
    }
   ],
   "source": [
    "ID ,info = [],[]\n",
    "ra, dec = [],[]\n",
    "for row in meta:\n",
    "    if row[6] >= 2 and row[6] <= 3:\n",
    "        if row[81] >= 20:\n",
    "            plate = row[3]\n",
    "            mjd = row[4]\n",
    "            fiber = row[5]\n",
    "            #name = row[0]\n",
    "            ra.append(row[0])\n",
    "            dec.append(row[1])\n",
    "            redshift = row[6]\n",
    "            #sn = row[10]\n",
    "            #ID.append([plate, mjd, fiber])\n",
    "            #info.append([ra, dec, redshift])\n",
    "\n",
    "print(len(ra))"
   ]
  },
  {
   "cell_type": "code",
   "execution_count": 30,
   "id": "f8c9d2d7",
   "metadata": {},
   "outputs": [
    {
     "data": {
      "text/plain": [
       "<SkyCoord (ICRS): (ra, dec) in deg\n",
       "    [(0.0073623 ,  -7.48592689), (0.03118942,  11.70188636),\n",
       "     (0.03908585,  13.93845165), (0.05682287,  -2.17207369),\n",
       "     (0.06036964, -10.75848229), (0.0626618 ,   6.74939813),\n",
       "     (0.09558287,  -2.45457676), (0.12178082,   5.82018859),\n",
       "     (0.12769617,  -6.68335491), (0.13040665,  -7.05327717)]>"
      ]
     },
     "execution_count": 30,
     "metadata": {},
     "output_type": "execute_result"
    }
   ],
   "source": [
    "coord = SkyCoord(ra,dec,unit='deg')\n",
    "coord[0:10]"
   ]
  },
  {
   "cell_type": "code",
   "execution_count": 55,
   "id": "7f3c067f",
   "metadata": {},
   "outputs": [],
   "source": [
    "#qdict = {'zem': (2.,3.), 'STYPE': 'QSO'}\n",
    "#matches, sub_cat, IDs = igmsp.qcat.query_coords(coord,'QSO','BOSS_DR14')"
   ]
  },
  {
   "cell_type": "code",
   "execution_count": 22,
   "id": "469a48b2",
   "metadata": {},
   "outputs": [
    {
     "ename": "NameError",
     "evalue": "name 'IDs' is not defined",
     "output_type": "error",
     "traceback": [
      "\u001b[0;31m---------------------------------------------------------------------------\u001b[0m",
      "\u001b[0;31mNameError\u001b[0m                                 Traceback (most recent call last)",
      "Cell \u001b[0;32mIn[22], line 1\u001b[0m\n\u001b[0;32m----> 1\u001b[0m meta23 \u001b[38;5;241m=\u001b[39m igmsp[\u001b[38;5;124m'\u001b[39m\u001b[38;5;124mBOSS_DR14\u001b[39m\u001b[38;5;124m'\u001b[39m]\u001b[38;5;241m.\u001b[39mmeta_from_ids(\u001b[43mIDs\u001b[49m,first\u001b[38;5;241m=\u001b[39m\u001b[38;5;28;01mFalse\u001b[39;00m)\n\u001b[1;32m      2\u001b[0m meta23[\u001b[38;5;241m0\u001b[39m][\u001b[38;5;241m66\u001b[39m]\n",
      "\u001b[0;31mNameError\u001b[0m: name 'IDs' is not defined"
     ]
    }
   ],
   "source": [
    "#meta23 = igmsp['BOSS_DR14'].meta_from_ids(IDs,first=False)\n",
    "#meta23[0][66"
   ]
  },
  {
   "cell_type": "code",
   "execution_count": 31,
   "id": "24c7de6a-b1a0-4ec0-87bc-44d370c2b2b2",
   "metadata": {},
   "outputs": [
    {
     "name": "stdout",
     "output_type": "stream",
     "text": [
      "Your search yielded 10 matches in the catalog from 10 input coordinates\n",
      "Final query yielded 10 matches with group meta data.\n",
      "Staged 10 spectra totalling 0.0007456 Gb\n",
      "Loaded spectra\n"
     ]
    },
    {
     "name": "stderr",
     "output_type": "stream",
     "text": [
      "/home/bartosz/linetools/linetools/spectra/xspectrum1d.py:253: UserWarning: No unit given to wavelength, assuming Angstroms.\n",
      "  warnings.warn(\"No unit given to wavelength, assuming Angstroms.\")\n"
     ]
    }
   ],
   "source": [
    "#spectra = igmsp.spectra_from_meta(meta23)\n",
    "spec, meta= igmsp.spectra_in_group(coord[0:10],'BOSS_DR14')"
   ]
  },
  {
   "cell_type": "code",
   "execution_count": 32,
   "id": "4ee39598-fd63-489c-b4da-24cbb6cd496f",
   "metadata": {},
   "outputs": [
    {
     "data": {
      "text/latex": [
       "$[-14.447938,~-2.4819846,~16.477226,~\\dots,~9.4442568,~2.101464,~-9.6505213] \\; \\mathrm{}$"
      ],
      "text/plain": [
       "<Quantity [-14.447938 ,  -2.4819846,  16.477226 , ...,   9.444257 ,\n",
       "             2.101464 ,  -9.650521 ]>"
      ]
     },
     "execution_count": 32,
     "metadata": {},
     "output_type": "execute_result"
    }
   ],
   "source": [
    "sp = spec.copy()\n",
    "sp.flux"
   ]
  },
  {
   "cell_type": "code",
   "execution_count": 44,
   "id": "e312e464-6ce6-46a6-badd-5b14887e4f11",
   "metadata": {},
   "outputs": [
    {
     "data": {
      "image/png": "[encoded data removed]",
      "text/plain": [
       "<Figure size 640x480 with 1 Axes>"
      ]
     },
     "metadata": {},
     "output_type": "display_data"
    }
   ],
   "source": [
    "sp.select=3\n",
    "sp.plot()\n",
    "#sp.write('data/test.fits')"
   ]
  }
 ],
 "metadata": {
  "kernelspec": {
   "display_name": "Python 3 (ipykernel)",
   "language": "python",
   "name": "python3"
  },
  "language_info": {
   "codemirror_mode": {
    "name": "ipython",
    "version": 3
   },
   "file_extension": ".py",
   "mimetype": "text/x-python",
   "name": "python",
   "nbconvert_exporter": "python",
   "pygments_lexer": "ipython3",
   "version": "3.11.4"
  }
 },
 "nbformat": 4,
 "nbformat_minor": 5
}
